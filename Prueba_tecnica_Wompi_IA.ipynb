{
  "cells": [
    {
      "cell_type": "markdown",
      "metadata": {
        "id": "OP9fNhPqbBgH"
      },
      "source": [
        "![wompi](Wompi.png)\n",
        "# **Prueba Técnica - Ingeniero IA**\n",
        "## Prueba Analítica: *Agente IA pasarela de pagos*\n",
        "### Ingeniero de IA:\n",
        "\n",
        "* Daniel Felipe Pérez Grajales . dfperezg@unal.edu.co<br>\n",
        "\n",
        "<br><br>\n",
        "\n",
        "\n",
        "---\n",
        "<br>\n",
        "\n",
        "**Objetivo:**\n",
        "\n",
        "Construir un sistema básico de RAC (Retrieval- Augmented Generation) que permita responder preguntas sobre un documento Usando *LangChain*, un *LLM* y un *vector store*.\n",
        "\n",
        "**Instrucciones**\n",
        "\n",
        "Se te entrega el archivo *bre_b.txt* con información sobre el sistema de pagos inmeditos en Colombia.\n",
        "Debes construir un sistema que permita responder preguntas sobre su contenido mediante un LLM.\n",
        "\n",
        "**Entregables**\n",
        "\n",
        "Debes entregar un archivo Jupyter Notebook (.ipynb) funcional que cumpla con estos pasos:\n",
        "\n",
        "\n",
        "* Carga del documento  \n",
        "* Segmentación del texto(chunking)\n",
        "* Generación de embeddings y almacenamiento en un vector store.\n",
        "* uso de un LLM.\n",
        "* Prompt de contexto.\n",
        "* Sección realizar preguntas al documento que responda con referencia a los chunks recuperado/utilizados.\n",
        "\n",
        "crear un agente IA en python funcional que cumpla con estos pasos:\n",
        "\n",
        "* Carga del documento  \n",
        "* Segmentación del texto(chunking)\n",
        "* Generación de embeddings y almacenamiento en un vector store.\n",
        "* uso de un LLM.\n",
        "* Prompt de contexto.\n",
        "* Sección realizar preguntas al documento que responda con referencia a los chunks recuperado/utilizados.\n",
        "\n",
        "**Recomendaciones**\n",
        "\n",
        "* Puedes utilizar el LLM de tu referencia. Se recomienda utilizar alguno open source mediante Hugging Face u Open Router.\n",
        "*  Puedes usar ek vector store de tu preferencia, local u externo.\n",
        "\n",
        "\n",
        "--------\n",
        "\n",
        "<br>\n",
        "Solución agente IA:\n",
        "\n",
        "0. Carga de Módulos.<br>\n",
        "1. Carga del documento.<br>\n",
        "2. Segmentación del texto(chunking).<br>\n",
        "3. Generación de embeddings y almacenamiento en un vector store.<br>\n",
        "4. uso de un LLM.<br>\n",
        "5. Prompt de contexto.<br>\n",
        "6. Sección realizar preguntas al documento que responda con referencia a los chunks recuperado/utilizados."
      ]
    },
    {
      "cell_type": "markdown",
      "metadata": {
        "id": "BNGjZjcScNVs"
      },
      "source": [
        "### o. Carga de Modulos requeridos"
      ]
    },
    {
      "cell_type": "code",
      "execution_count": 1,
      "metadata": {
        "colab": {
          "base_uri": "https://localhost:8080/"
        },
        "id": "dHHcZmN0b-1f",
        "outputId": "04064b57-82c5-4f29-b930-83262fc9c74c"
      },
      "outputs": [
        {
          "name": "stdout",
          "output_type": "stream",
          "text": [
            "Requirement already satisfied: transformers in /usr/local/lib/python3.11/dist-packages (4.53.3)\n",
            "Requirement already satisfied: torch in /usr/local/lib/python3.11/dist-packages (2.6.0+cu124)\n",
            "Requirement already satisfied: accelerate in /usr/local/lib/python3.11/dist-packages (1.9.0)\n",
            "Requirement already satisfied: gradio in /usr/local/lib/python3.11/dist-packages (5.38.1)\n",
            "Requirement already satisfied: langchain in /usr/local/lib/python3.11/dist-packages (0.3.26)\n",
            "Requirement already satisfied: chromadb in /usr/local/lib/python3.11/dist-packages (1.0.15)\n",
            "Requirement already satisfied: sentence_transformers in /usr/local/lib/python3.11/dist-packages (4.1.0)\n",
            "Requirement already satisfied: bitsandbytes in /usr/local/lib/python3.11/dist-packages (0.46.1)\n",
            "Requirement already satisfied: filelock in /usr/local/lib/python3.11/dist-packages (from transformers) (3.18.0)\n",
            "Requirement already satisfied: huggingface-hub<1.0,>=0.30.0 in /usr/local/lib/python3.11/dist-packages (from transformers) (0.33.4)\n",
            "Requirement already satisfied: numpy>=1.17 in /usr/local/lib/python3.11/dist-packages (from transformers) (2.0.2)\n",
            "Requirement already satisfied: packaging>=20.0 in /usr/local/lib/python3.11/dist-packages (from transformers) (25.0)\n",
            "Requirement already satisfied: pyyaml>=5.1 in /usr/local/lib/python3.11/dist-packages (from transformers) (6.0.2)\n",
            "Requirement already satisfied: regex!=2019.12.17 in /usr/local/lib/python3.11/dist-packages (from transformers) (2024.11.6)\n",
            "Requirement already satisfied: requests in /usr/local/lib/python3.11/dist-packages (from transformers) (2.32.3)\n",
            "Requirement already satisfied: tokenizers<0.22,>=0.21 in /usr/local/lib/python3.11/dist-packages (from transformers) (0.21.2)\n",
            "Requirement already satisfied: safetensors>=0.4.3 in /usr/local/lib/python3.11/dist-packages (from transformers) (0.5.3)\n",
            "Requirement already satisfied: tqdm>=4.27 in /usr/local/lib/python3.11/dist-packages (from transformers) (4.67.1)\n",
            "Requirement already satisfied: typing-extensions>=4.10.0 in /usr/local/lib/python3.11/dist-packages (from torch) (4.14.1)\n",
            "Requirement already satisfied: networkx in /usr/local/lib/python3.11/dist-packages (from torch) (3.5)\n",
            "Requirement already satisfied: jinja2 in /usr/local/lib/python3.11/dist-packages (from torch) (3.1.6)\n",
            "Requirement already satisfied: fsspec in /usr/local/lib/python3.11/dist-packages (from torch) (2025.3.0)\n",
            "Requirement already satisfied: nvidia-cuda-nvrtc-cu12==12.4.127 in /usr/local/lib/python3.11/dist-packages (from torch) (12.4.127)\n",
            "Requirement already satisfied: nvidia-cuda-runtime-cu12==12.4.127 in /usr/local/lib/python3.11/dist-packages (from torch) (12.4.127)\n",
            "Requirement already satisfied: nvidia-cuda-cupti-cu12==12.4.127 in /usr/local/lib/python3.11/dist-packages (from torch) (12.4.127)\n",
            "Requirement already satisfied: nvidia-cudnn-cu12==9.1.0.70 in /usr/local/lib/python3.11/dist-packages (from torch) (9.1.0.70)\n",
            "Requirement already satisfied: nvidia-cublas-cu12==12.4.5.8 in /usr/local/lib/python3.11/dist-packages (from torch) (12.4.5.8)\n",
            "Requirement already satisfied: nvidia-cufft-cu12==11.2.1.3 in /usr/local/lib/python3.11/dist-packages (from torch) (11.2.1.3)\n",
            "Requirement already satisfied: nvidia-curand-cu12==10.3.5.147 in /usr/local/lib/python3.11/dist-packages (from torch) (10.3.5.147)\n",
            "Requirement already satisfied: nvidia-cusolver-cu12==11.6.1.9 in /usr/local/lib/python3.11/dist-packages (from torch) (11.6.1.9)\n",
            "Requirement already satisfied: nvidia-cusparse-cu12==12.3.1.170 in /usr/local/lib/python3.11/dist-packages (from torch) (12.3.1.170)\n",
            "Requirement already satisfied: nvidia-cusparselt-cu12==0.6.2 in /usr/local/lib/python3.11/dist-packages (from torch) (0.6.2)\n",
            "Requirement already satisfied: nvidia-nccl-cu12==2.21.5 in /usr/local/lib/python3.11/dist-packages (from torch) (2.21.5)\n",
            "Requirement already satisfied: nvidia-nvtx-cu12==12.4.127 in /usr/local/lib/python3.11/dist-packages (from torch) (12.4.127)\n",
            "Requirement already satisfied: nvidia-nvjitlink-cu12==12.4.127 in /usr/local/lib/python3.11/dist-packages (from torch) (12.4.127)\n",
            "Requirement already satisfied: triton==3.2.0 in /usr/local/lib/python3.11/dist-packages (from torch) (3.2.0)\n",
            "Requirement already satisfied: sympy==1.13.1 in /usr/local/lib/python3.11/dist-packages (from torch) (1.13.1)\n",
            "Requirement already satisfied: mpmath<1.4,>=1.1.0 in /usr/local/lib/python3.11/dist-packages (from sympy==1.13.1->torch) (1.3.0)\n",
            "Requirement already satisfied: psutil in /usr/local/lib/python3.11/dist-packages (from accelerate) (5.9.5)\n",
            "Requirement already satisfied: aiofiles<25.0,>=22.0 in /usr/local/lib/python3.11/dist-packages (from gradio) (24.1.0)\n",
            "Requirement already satisfied: anyio<5.0,>=3.0 in /usr/local/lib/python3.11/dist-packages (from gradio) (4.9.0)\n",
            "Requirement already satisfied: brotli>=1.1.0 in /usr/local/lib/python3.11/dist-packages (from gradio) (1.1.0)\n",
            "Requirement already satisfied: fastapi<1.0,>=0.115.2 in /usr/local/lib/python3.11/dist-packages (from gradio) (0.116.1)\n",
            "Requirement already satisfied: ffmpy in /usr/local/lib/python3.11/dist-packages (from gradio) (0.6.1)\n",
            "Requirement already satisfied: gradio-client==1.11.0 in /usr/local/lib/python3.11/dist-packages (from gradio) (1.11.0)\n",
            "Requirement already satisfied: groovy~=0.1 in /usr/local/lib/python3.11/dist-packages (from gradio) (0.1.2)\n",
            "Requirement already satisfied: httpx<1.0,>=0.24.1 in /usr/local/lib/python3.11/dist-packages (from gradio) (0.28.1)\n",
            "Requirement already satisfied: markupsafe<4.0,>=2.0 in /usr/local/lib/python3.11/dist-packages (from gradio) (3.0.2)\n",
            "Requirement already satisfied: orjson~=3.0 in /usr/local/lib/python3.11/dist-packages (from gradio) (3.11.0)\n",
            "Requirement already satisfied: pandas<3.0,>=1.0 in /usr/local/lib/python3.11/dist-packages (from gradio) (2.2.2)\n",
            "Requirement already satisfied: pillow<12.0,>=8.0 in /usr/local/lib/python3.11/dist-packages (from gradio) (11.3.0)\n",
            "Requirement already satisfied: pydantic<2.12,>=2.0 in /usr/local/lib/python3.11/dist-packages (from gradio) (2.11.7)\n",
            "Requirement already satisfied: pydub in /usr/local/lib/python3.11/dist-packages (from gradio) (0.25.1)\n",
            "Requirement already satisfied: python-multipart>=0.0.18 in /usr/local/lib/python3.11/dist-packages (from gradio) (0.0.20)\n",
            "Requirement already satisfied: ruff>=0.9.3 in /usr/local/lib/python3.11/dist-packages (from gradio) (0.12.4)\n",
            "Requirement already satisfied: safehttpx<0.2.0,>=0.1.6 in /usr/local/lib/python3.11/dist-packages (from gradio) (0.1.6)\n",
            "Requirement already satisfied: semantic-version~=2.0 in /usr/local/lib/python3.11/dist-packages (from gradio) (2.10.0)\n",
            "Requirement already satisfied: starlette<1.0,>=0.40.0 in /usr/local/lib/python3.11/dist-packages (from gradio) (0.47.2)\n",
            "Requirement already satisfied: tomlkit<0.14.0,>=0.12.0 in /usr/local/lib/python3.11/dist-packages (from gradio) (0.13.3)\n",
            "Requirement already satisfied: typer<1.0,>=0.12 in /usr/local/lib/python3.11/dist-packages (from gradio) (0.16.0)\n",
            "Requirement already satisfied: uvicorn>=0.14.0 in /usr/local/lib/python3.11/dist-packages (from gradio) (0.35.0)\n",
            "Requirement already satisfied: websockets<16.0,>=10.0 in /usr/local/lib/python3.11/dist-packages (from gradio-client==1.11.0->gradio) (15.0.1)\n",
            "Requirement already satisfied: langchain-core<1.0.0,>=0.3.66 in /usr/local/lib/python3.11/dist-packages (from langchain) (0.3.71)\n",
            "Requirement already satisfied: langchain-text-splitters<1.0.0,>=0.3.8 in /usr/local/lib/python3.11/dist-packages (from langchain) (0.3.8)\n",
            "Requirement already satisfied: langsmith>=0.1.17 in /usr/local/lib/python3.11/dist-packages (from langchain) (0.4.8)\n",
            "Requirement already satisfied: SQLAlchemy<3,>=1.4 in /usr/local/lib/python3.11/dist-packages (from langchain) (2.0.41)\n",
            "Requirement already satisfied: build>=1.0.3 in /usr/local/lib/python3.11/dist-packages (from chromadb) (1.2.2.post1)\n",
            "Requirement already satisfied: pybase64>=1.4.1 in /usr/local/lib/python3.11/dist-packages (from chromadb) (1.4.2)\n",
            "Requirement already satisfied: posthog<6.0.0,>=2.4.0 in /usr/local/lib/python3.11/dist-packages (from chromadb) (5.4.0)\n",
            "Requirement already satisfied: onnxruntime>=1.14.1 in /usr/local/lib/python3.11/dist-packages (from chromadb) (1.22.1)\n",
            "Requirement already satisfied: opentelemetry-api>=1.2.0 in /usr/local/lib/python3.11/dist-packages (from chromadb) (1.35.0)\n",
            "Requirement already satisfied: opentelemetry-exporter-otlp-proto-grpc>=1.2.0 in /usr/local/lib/python3.11/dist-packages (from chromadb) (1.35.0)\n",
            "Requirement already satisfied: opentelemetry-sdk>=1.2.0 in /usr/local/lib/python3.11/dist-packages (from chromadb) (1.35.0)\n",
            "Requirement already satisfied: pypika>=0.48.9 in /usr/local/lib/python3.11/dist-packages (from chromadb) (0.48.9)\n",
            "Requirement already satisfied: overrides>=7.3.1 in /usr/local/lib/python3.11/dist-packages (from chromadb) (7.7.0)\n",
            "Requirement already satisfied: importlib-resources in /usr/local/lib/python3.11/dist-packages (from chromadb) (6.5.2)\n",
            "Requirement already satisfied: grpcio>=1.58.0 in /usr/local/lib/python3.11/dist-packages (from chromadb) (1.73.1)\n",
            "Requirement already satisfied: bcrypt>=4.0.1 in /usr/local/lib/python3.11/dist-packages (from chromadb) (4.3.0)\n",
            "Requirement already satisfied: kubernetes>=28.1.0 in /usr/local/lib/python3.11/dist-packages (from chromadb) (33.1.0)\n",
            "Requirement already satisfied: tenacity>=8.2.3 in /usr/local/lib/python3.11/dist-packages (from chromadb) (8.5.0)\n",
            "Requirement already satisfied: mmh3>=4.0.1 in /usr/local/lib/python3.11/dist-packages (from chromadb) (5.1.0)\n",
            "Requirement already satisfied: rich>=10.11.0 in /usr/local/lib/python3.11/dist-packages (from chromadb) (13.9.4)\n",
            "Requirement already satisfied: jsonschema>=4.19.0 in /usr/local/lib/python3.11/dist-packages (from chromadb) (4.25.0)\n",
            "Requirement already satisfied: scikit-learn in /usr/local/lib/python3.11/dist-packages (from sentence_transformers) (1.6.1)\n",
            "Requirement already satisfied: scipy in /usr/local/lib/python3.11/dist-packages (from sentence_transformers) (1.16.0)\n",
            "Requirement already satisfied: idna>=2.8 in /usr/local/lib/python3.11/dist-packages (from anyio<5.0,>=3.0->gradio) (3.10)\n",
            "Requirement already satisfied: sniffio>=1.1 in /usr/local/lib/python3.11/dist-packages (from anyio<5.0,>=3.0->gradio) (1.3.1)\n",
            "Requirement already satisfied: pyproject_hooks in /usr/local/lib/python3.11/dist-packages (from build>=1.0.3->chromadb) (1.2.0)\n",
            "Requirement already satisfied: certifi in /usr/local/lib/python3.11/dist-packages (from httpx<1.0,>=0.24.1->gradio) (2025.7.14)\n",
            "Requirement already satisfied: httpcore==1.* in /usr/local/lib/python3.11/dist-packages (from httpx<1.0,>=0.24.1->gradio) (1.0.9)\n",
            "Requirement already satisfied: h11>=0.16 in /usr/local/lib/python3.11/dist-packages (from httpcore==1.*->httpx<1.0,>=0.24.1->gradio) (0.16.0)\n",
            "Requirement already satisfied: hf-xet<2.0.0,>=1.1.2 in /usr/local/lib/python3.11/dist-packages (from huggingface-hub<1.0,>=0.30.0->transformers) (1.1.5)\n",
            "Requirement already satisfied: attrs>=22.2.0 in /usr/local/lib/python3.11/dist-packages (from jsonschema>=4.19.0->chromadb) (25.3.0)\n",
            "Requirement already satisfied: jsonschema-specifications>=2023.03.6 in /usr/local/lib/python3.11/dist-packages (from jsonschema>=4.19.0->chromadb) (2025.4.1)\n",
            "Requirement already satisfied: referencing>=0.28.4 in /usr/local/lib/python3.11/dist-packages (from jsonschema>=4.19.0->chromadb) (0.36.2)\n",
            "Requirement already satisfied: rpds-py>=0.7.1 in /usr/local/lib/python3.11/dist-packages (from jsonschema>=4.19.0->chromadb) (0.26.0)\n",
            "Requirement already satisfied: six>=1.9.0 in /usr/local/lib/python3.11/dist-packages (from kubernetes>=28.1.0->chromadb) (1.17.0)\n",
            "Requirement already satisfied: python-dateutil>=2.5.3 in /usr/local/lib/python3.11/dist-packages (from kubernetes>=28.1.0->chromadb) (2.9.0.post0)\n",
            "Requirement already satisfied: google-auth>=1.0.1 in /usr/local/lib/python3.11/dist-packages (from kubernetes>=28.1.0->chromadb) (2.38.0)\n",
            "Requirement already satisfied: websocket-client!=0.40.0,!=0.41.*,!=0.42.*,>=0.32.0 in /usr/local/lib/python3.11/dist-packages (from kubernetes>=28.1.0->chromadb) (1.8.0)\n",
            "Requirement already satisfied: requests-oauthlib in /usr/local/lib/python3.11/dist-packages (from kubernetes>=28.1.0->chromadb) (2.0.0)\n",
            "Requirement already satisfied: oauthlib>=3.2.2 in /usr/local/lib/python3.11/dist-packages (from kubernetes>=28.1.0->chromadb) (3.3.1)\n",
            "Requirement already satisfied: urllib3>=1.24.2 in /usr/local/lib/python3.11/dist-packages (from kubernetes>=28.1.0->chromadb) (2.5.0)\n",
            "Requirement already satisfied: durationpy>=0.7 in /usr/local/lib/python3.11/dist-packages (from kubernetes>=28.1.0->chromadb) (0.10)\n",
            "Requirement already satisfied: jsonpatch<2.0,>=1.33 in /usr/local/lib/python3.11/dist-packages (from langchain-core<1.0.0,>=0.3.66->langchain) (1.33)\n",
            "Requirement already satisfied: requests-toolbelt<2.0.0,>=1.0.0 in /usr/local/lib/python3.11/dist-packages (from langsmith>=0.1.17->langchain) (1.0.0)\n",
            "Requirement already satisfied: zstandard<0.24.0,>=0.23.0 in /usr/local/lib/python3.11/dist-packages (from langsmith>=0.1.17->langchain) (0.23.0)\n",
            "Requirement already satisfied: coloredlogs in /usr/local/lib/python3.11/dist-packages (from onnxruntime>=1.14.1->chromadb) (15.0.1)\n",
            "Requirement already satisfied: flatbuffers in /usr/local/lib/python3.11/dist-packages (from onnxruntime>=1.14.1->chromadb) (25.2.10)\n",
            "Requirement already satisfied: protobuf in /usr/local/lib/python3.11/dist-packages (from onnxruntime>=1.14.1->chromadb) (5.29.5)\n",
            "Requirement already satisfied: importlib-metadata<8.8.0,>=6.0 in /usr/local/lib/python3.11/dist-packages (from opentelemetry-api>=1.2.0->chromadb) (8.7.0)\n",
            "Requirement already satisfied: googleapis-common-protos~=1.57 in /usr/local/lib/python3.11/dist-packages (from opentelemetry-exporter-otlp-proto-grpc>=1.2.0->chromadb) (1.70.0)\n",
            "Requirement already satisfied: opentelemetry-exporter-otlp-proto-common==1.35.0 in /usr/local/lib/python3.11/dist-packages (from opentelemetry-exporter-otlp-proto-grpc>=1.2.0->chromadb) (1.35.0)\n",
            "Requirement already satisfied: opentelemetry-proto==1.35.0 in /usr/local/lib/python3.11/dist-packages (from opentelemetry-exporter-otlp-proto-grpc>=1.2.0->chromadb) (1.35.0)\n",
            "Requirement already satisfied: opentelemetry-semantic-conventions==0.56b0 in /usr/local/lib/python3.11/dist-packages (from opentelemetry-sdk>=1.2.0->chromadb) (0.56b0)\n",
            "Requirement already satisfied: pytz>=2020.1 in /usr/local/lib/python3.11/dist-packages (from pandas<3.0,>=1.0->gradio) (2025.2)\n",
            "Requirement already satisfied: tzdata>=2022.7 in /usr/local/lib/python3.11/dist-packages (from pandas<3.0,>=1.0->gradio) (2025.2)\n",
            "Requirement already satisfied: backoff>=1.10.0 in /usr/local/lib/python3.11/dist-packages (from posthog<6.0.0,>=2.4.0->chromadb) (2.2.1)\n",
            "Requirement already satisfied: distro>=1.5.0 in /usr/local/lib/python3.11/dist-packages (from posthog<6.0.0,>=2.4.0->chromadb) (1.9.0)\n",
            "Requirement already satisfied: annotated-types>=0.6.0 in /usr/local/lib/python3.11/dist-packages (from pydantic<2.12,>=2.0->gradio) (0.7.0)\n",
            "Requirement already satisfied: pydantic-core==2.33.2 in /usr/local/lib/python3.11/dist-packages (from pydantic<2.12,>=2.0->gradio) (2.33.2)\n",
            "Requirement already satisfied: typing-inspection>=0.4.0 in /usr/local/lib/python3.11/dist-packages (from pydantic<2.12,>=2.0->gradio) (0.4.1)\n",
            "Requirement already satisfied: charset-normalizer<4,>=2 in /usr/local/lib/python3.11/dist-packages (from requests->transformers) (3.4.2)\n",
            "Requirement already satisfied: markdown-it-py>=2.2.0 in /usr/local/lib/python3.11/dist-packages (from rich>=10.11.0->chromadb) (3.0.0)\n",
            "Requirement already satisfied: pygments<3.0.0,>=2.13.0 in /usr/local/lib/python3.11/dist-packages (from rich>=10.11.0->chromadb) (2.19.2)\n",
            "Requirement already satisfied: greenlet>=1 in /usr/local/lib/python3.11/dist-packages (from SQLAlchemy<3,>=1.4->langchain) (3.2.3)\n",
            "Requirement already satisfied: click>=8.0.0 in /usr/local/lib/python3.11/dist-packages (from typer<1.0,>=0.12->gradio) (8.2.1)\n",
            "Requirement already satisfied: shellingham>=1.3.0 in /usr/local/lib/python3.11/dist-packages (from typer<1.0,>=0.12->gradio) (1.5.4)\n",
            "Requirement already satisfied: httptools>=0.6.3 in /usr/local/lib/python3.11/dist-packages (from uvicorn[standard]>=0.18.3->chromadb) (0.6.4)\n",
            "Requirement already satisfied: python-dotenv>=0.13 in /usr/local/lib/python3.11/dist-packages (from uvicorn[standard]>=0.18.3->chromadb) (1.1.1)\n",
            "Requirement already satisfied: uvloop>=0.15.1 in /usr/local/lib/python3.11/dist-packages (from uvicorn[standard]>=0.18.3->chromadb) (0.21.0)\n",
            "Requirement already satisfied: watchfiles>=0.13 in /usr/local/lib/python3.11/dist-packages (from uvicorn[standard]>=0.18.3->chromadb) (1.1.0)\n",
            "Requirement already satisfied: joblib>=1.2.0 in /usr/local/lib/python3.11/dist-packages (from scikit-learn->sentence_transformers) (1.5.1)\n",
            "Requirement already satisfied: threadpoolctl>=3.1.0 in /usr/local/lib/python3.11/dist-packages (from scikit-learn->sentence_transformers) (3.6.0)\n",
            "Requirement already satisfied: cachetools<6.0,>=2.0.0 in /usr/local/lib/python3.11/dist-packages (from google-auth>=1.0.1->kubernetes>=28.1.0->chromadb) (5.5.2)\n",
            "Requirement already satisfied: pyasn1-modules>=0.2.1 in /usr/local/lib/python3.11/dist-packages (from google-auth>=1.0.1->kubernetes>=28.1.0->chromadb) (0.4.2)\n",
            "Requirement already satisfied: rsa<5,>=3.1.4 in /usr/local/lib/python3.11/dist-packages (from google-auth>=1.0.1->kubernetes>=28.1.0->chromadb) (4.9.1)\n",
            "Requirement already satisfied: zipp>=3.20 in /usr/local/lib/python3.11/dist-packages (from importlib-metadata<8.8.0,>=6.0->opentelemetry-api>=1.2.0->chromadb) (3.23.0)\n",
            "Requirement already satisfied: jsonpointer>=1.9 in /usr/local/lib/python3.11/dist-packages (from jsonpatch<2.0,>=1.33->langchain-core<1.0.0,>=0.3.66->langchain) (3.0.0)\n",
            "Requirement already satisfied: mdurl~=0.1 in /usr/local/lib/python3.11/dist-packages (from markdown-it-py>=2.2.0->rich>=10.11.0->chromadb) (0.1.2)\n",
            "Requirement already satisfied: humanfriendly>=9.1 in /usr/local/lib/python3.11/dist-packages (from coloredlogs->onnxruntime>=1.14.1->chromadb) (10.0)\n",
            "Requirement already satisfied: pyasn1<0.7.0,>=0.6.1 in /usr/local/lib/python3.11/dist-packages (from pyasn1-modules>=0.2.1->google-auth>=1.0.1->kubernetes>=28.1.0->chromadb) (0.6.1)\n"
          ]
        }
      ],
      "source": [
        "!pip install transformers torch accelerate gradio langchain chromadb sentence_transformers bitsandbytes"
      ]
    },
    {
      "cell_type": "code",
      "execution_count": 2,
      "metadata": {
        "colab": {
          "base_uri": "https://localhost:8080/"
        },
        "id": "DNRrrdjjdspN",
        "outputId": "8002bfac-8623-4658-f330-a58dcc3e2ca4"
      },
      "outputs": [
        {
          "name": "stdout",
          "output_type": "stream",
          "text": [
            "Requirement already satisfied: langchain-community in /usr/local/lib/python3.11/dist-packages (0.3.27)\n",
            "Requirement already satisfied: langchain-core<1.0.0,>=0.3.66 in /usr/local/lib/python3.11/dist-packages (from langchain-community) (0.3.71)\n",
            "Requirement already satisfied: langchain<1.0.0,>=0.3.26 in /usr/local/lib/python3.11/dist-packages (from langchain-community) (0.3.26)\n",
            "Requirement already satisfied: SQLAlchemy<3,>=1.4 in /usr/local/lib/python3.11/dist-packages (from langchain-community) (2.0.41)\n",
            "Requirement already satisfied: requests<3,>=2 in /usr/local/lib/python3.11/dist-packages (from langchain-community) (2.32.3)\n",
            "Requirement already satisfied: PyYAML>=5.3 in /usr/local/lib/python3.11/dist-packages (from langchain-community) (6.0.2)\n",
            "Requirement already satisfied: aiohttp<4.0.0,>=3.8.3 in /usr/local/lib/python3.11/dist-packages (from langchain-community) (3.12.14)\n",
            "Requirement already satisfied: tenacity!=8.4.0,<10,>=8.1.0 in /usr/local/lib/python3.11/dist-packages (from langchain-community) (8.5.0)\n",
            "Requirement already satisfied: dataclasses-json<0.7,>=0.5.7 in /usr/local/lib/python3.11/dist-packages (from langchain-community) (0.6.7)\n",
            "Requirement already satisfied: pydantic-settings<3.0.0,>=2.4.0 in /usr/local/lib/python3.11/dist-packages (from langchain-community) (2.10.1)\n",
            "Requirement already satisfied: langsmith>=0.1.125 in /usr/local/lib/python3.11/dist-packages (from langchain-community) (0.4.8)\n",
            "Requirement already satisfied: httpx-sse<1.0.0,>=0.4.0 in /usr/local/lib/python3.11/dist-packages (from langchain-community) (0.4.1)\n",
            "Requirement already satisfied: numpy>=1.26.2 in /usr/local/lib/python3.11/dist-packages (from langchain-community) (2.0.2)\n",
            "Requirement already satisfied: aiohappyeyeballs>=2.5.0 in /usr/local/lib/python3.11/dist-packages (from aiohttp<4.0.0,>=3.8.3->langchain-community) (2.6.1)\n",
            "Requirement already satisfied: aiosignal>=1.4.0 in /usr/local/lib/python3.11/dist-packages (from aiohttp<4.0.0,>=3.8.3->langchain-community) (1.4.0)\n",
            "Requirement already satisfied: attrs>=17.3.0 in /usr/local/lib/python3.11/dist-packages (from aiohttp<4.0.0,>=3.8.3->langchain-community) (25.3.0)\n",
            "Requirement already satisfied: frozenlist>=1.1.1 in /usr/local/lib/python3.11/dist-packages (from aiohttp<4.0.0,>=3.8.3->langchain-community) (1.7.0)\n",
            "Requirement already satisfied: multidict<7.0,>=4.5 in /usr/local/lib/python3.11/dist-packages (from aiohttp<4.0.0,>=3.8.3->langchain-community) (6.6.3)\n",
            "Requirement already satisfied: propcache>=0.2.0 in /usr/local/lib/python3.11/dist-packages (from aiohttp<4.0.0,>=3.8.3->langchain-community) (0.3.2)\n",
            "Requirement already satisfied: yarl<2.0,>=1.17.0 in /usr/local/lib/python3.11/dist-packages (from aiohttp<4.0.0,>=3.8.3->langchain-community) (1.20.1)\n",
            "Requirement already satisfied: marshmallow<4.0.0,>=3.18.0 in /usr/local/lib/python3.11/dist-packages (from dataclasses-json<0.7,>=0.5.7->langchain-community) (3.26.1)\n",
            "Requirement already satisfied: typing-inspect<1,>=0.4.0 in /usr/local/lib/python3.11/dist-packages (from dataclasses-json<0.7,>=0.5.7->langchain-community) (0.9.0)\n",
            "Requirement already satisfied: langchain-text-splitters<1.0.0,>=0.3.8 in /usr/local/lib/python3.11/dist-packages (from langchain<1.0.0,>=0.3.26->langchain-community) (0.3.8)\n",
            "Requirement already satisfied: pydantic<3.0.0,>=2.7.4 in /usr/local/lib/python3.11/dist-packages (from langchain<1.0.0,>=0.3.26->langchain-community) (2.11.7)\n",
            "Requirement already satisfied: jsonpatch<2.0,>=1.33 in /usr/local/lib/python3.11/dist-packages (from langchain-core<1.0.0,>=0.3.66->langchain-community) (1.33)\n",
            "Requirement already satisfied: typing-extensions>=4.7 in /usr/local/lib/python3.11/dist-packages (from langchain-core<1.0.0,>=0.3.66->langchain-community) (4.14.1)\n",
            "Requirement already satisfied: packaging>=23.2 in /usr/local/lib/python3.11/dist-packages (from langchain-core<1.0.0,>=0.3.66->langchain-community) (25.0)\n",
            "Requirement already satisfied: httpx<1,>=0.23.0 in /usr/local/lib/python3.11/dist-packages (from langsmith>=0.1.125->langchain-community) (0.28.1)\n",
            "Requirement already satisfied: orjson<4.0.0,>=3.9.14 in /usr/local/lib/python3.11/dist-packages (from langsmith>=0.1.125->langchain-community) (3.11.0)\n",
            "Requirement already satisfied: requests-toolbelt<2.0.0,>=1.0.0 in /usr/local/lib/python3.11/dist-packages (from langsmith>=0.1.125->langchain-community) (1.0.0)\n",
            "Requirement already satisfied: zstandard<0.24.0,>=0.23.0 in /usr/local/lib/python3.11/dist-packages (from langsmith>=0.1.125->langchain-community) (0.23.0)\n",
            "Requirement already satisfied: python-dotenv>=0.21.0 in /usr/local/lib/python3.11/dist-packages (from pydantic-settings<3.0.0,>=2.4.0->langchain-community) (1.1.1)\n",
            "Requirement already satisfied: typing-inspection>=0.4.0 in /usr/local/lib/python3.11/dist-packages (from pydantic-settings<3.0.0,>=2.4.0->langchain-community) (0.4.1)\n",
            "Requirement already satisfied: charset-normalizer<4,>=2 in /usr/local/lib/python3.11/dist-packages (from requests<3,>=2->langchain-community) (3.4.2)\n",
            "Requirement already satisfied: idna<4,>=2.5 in /usr/local/lib/python3.11/dist-packages (from requests<3,>=2->langchain-community) (3.10)\n",
            "Requirement already satisfied: urllib3<3,>=1.21.1 in /usr/local/lib/python3.11/dist-packages (from requests<3,>=2->langchain-community) (2.5.0)\n",
            "Requirement already satisfied: certifi>=2017.4.17 in /usr/local/lib/python3.11/dist-packages (from requests<3,>=2->langchain-community) (2025.7.14)\n",
            "Requirement already satisfied: greenlet>=1 in /usr/local/lib/python3.11/dist-packages (from SQLAlchemy<3,>=1.4->langchain-community) (3.2.3)\n",
            "Requirement already satisfied: anyio in /usr/local/lib/python3.11/dist-packages (from httpx<1,>=0.23.0->langsmith>=0.1.125->langchain-community) (4.9.0)\n",
            "Requirement already satisfied: httpcore==1.* in /usr/local/lib/python3.11/dist-packages (from httpx<1,>=0.23.0->langsmith>=0.1.125->langchain-community) (1.0.9)\n",
            "Requirement already satisfied: h11>=0.16 in /usr/local/lib/python3.11/dist-packages (from httpcore==1.*->httpx<1,>=0.23.0->langsmith>=0.1.125->langchain-community) (0.16.0)\n",
            "Requirement already satisfied: jsonpointer>=1.9 in /usr/local/lib/python3.11/dist-packages (from jsonpatch<2.0,>=1.33->langchain-core<1.0.0,>=0.3.66->langchain-community) (3.0.0)\n",
            "Requirement already satisfied: annotated-types>=0.6.0 in /usr/local/lib/python3.11/dist-packages (from pydantic<3.0.0,>=2.7.4->langchain<1.0.0,>=0.3.26->langchain-community) (0.7.0)\n",
            "Requirement already satisfied: pydantic-core==2.33.2 in /usr/local/lib/python3.11/dist-packages (from pydantic<3.0.0,>=2.7.4->langchain<1.0.0,>=0.3.26->langchain-community) (2.33.2)\n",
            "Requirement already satisfied: mypy-extensions>=0.3.0 in /usr/local/lib/python3.11/dist-packages (from typing-inspect<1,>=0.4.0->dataclasses-json<0.7,>=0.5.7->langchain-community) (1.1.0)\n",
            "Requirement already satisfied: sniffio>=1.1 in /usr/local/lib/python3.11/dist-packages (from anyio->httpx<1,>=0.23.0->langsmith>=0.1.125->langchain-community) (1.3.1)\n"
          ]
        }
      ],
      "source": [
        "!pip install -U langchain-community"
      ]
    },
    {
      "cell_type": "code",
      "execution_count": 3,
      "metadata": {
        "id": "SH0I_TNTcMpn"
      },
      "outputs": [],
      "source": [
        "from langchain.document_loaders import TextLoader\n",
        "from langchain.vectorstores import Chroma\n",
        "from langchain.embeddings import OpenAIEmbeddings\n",
        "from langchain.text_splitter import RecursiveCharacterTextSplitter"
      ]
    },
    {
      "cell_type": "markdown",
      "metadata": {
        "id": "S2oW0vXwccoT"
      },
      "source": [
        "### 1. Carga de documento"
      ]
    },
    {
      "cell_type": "code",
      "execution_count": 4,
      "metadata": {
        "colab": {
          "base_uri": "https://localhost:8080/"
        },
        "id": "olAtXW5ZcbLM",
        "outputId": "c498685c-1720-4d45-e2e2-19164f033f87"
      },
      "outputs": [
        {
          "data": {
            "text/plain": [
              "[Document(metadata={'source': '/content/bre-b.txt'}, page_content='La interoperabilidad bancaria en Colombia ha ganado relevancia en los últimos años. Pero ¿qué significa exactamente y cómo hace parte del día a día de las personas?\\xa0\\n¿Qué es la interoperabilidad bancaria?\\nLa interoperabilidad en el sistema financiero es la capacidad de hacer transacciones financieras de manera fluida y eficiente a través de la interconexión entre diferentes entidades que hacen parte de la industria financiera.\\xa0\\n\\xa0Imagina que tienes una cuenta en el\\xa0Banco A, pero necesitas hacer un pago o transferencia a alguien que tiene una cuenta en el\\xa0Banco B. Antes, este proceso podía ser complicado y lento debido a los sistemas y procesos de cada banco.\\xa0\\xa0\\n\\xa0Por medio de la interoperabilidad, puedes hacer esta transacción de manera rápida y sencilla, sin importar en qué entidad tengas tu cuenta. Este concepto no es nuevo en el país; ejemplos como\\xa0Transfiya\\xa0y\\xa0PSE\\xa0demuestran que la interoperabilidad se viene trabajando desde hace tiempo promoviendo la agilidad en las transacciones.\\xa0\\nBeneficios de la interoperabilidad\\nLa interoperabilidad en la prestación de servicios financieros es un paso importante hacia la\\xa0inclusión financiera y la bancarización de personas\\xa0que aún no tienen acceso al sistema financiero y, en algunos casos,\\xa0desconocimiento sobre los productos y servicios que ofrecen\\xa0las entidades de este sector. \\xa0\\nEsto, también facilita que la gente se involucre con la economía formal y no elija opciones que no son confiables. Además, la interoperabilidad hace más sencillas tus transacciones diarias, como pagar a comercios o enviar dinero a amigos y familiares.\\xa0\\nLa interoperabilidad aplica para las cuentas bancarias tradicionales y para los depósitos de bajo monto\\xa0como\\xa0Nequi, lo que significa que incluso si no tienes una cuenta bancaria tradicional, puedes beneficiarte de la\\xa0facilidad\\xa0y\\xa0eficiencia\\xa0que ofrece.\\xa0\\nVentajas de la interoperabilidad financiera para las personas\\xa0\\xa0\\nLa interoperabilidad bancaria no solo promueve la inclusión financiera al reducir el uso de efectivo, sino que también te brinda mayor seguridad y fomenta una experiencia más fluida y cómoda al ofrecer una red de transacciones accesible y segura para las personas y negocios por igual.\\xa0\\nPero\\xa0los beneficios de la interoperabilidad en el sector financiero\\xa0para las personas no se detienen allí: ayuda a formalizar la economía, a que los usuarios manejen su dinero con más libertad al transferir fondos entre entidades de manera casi instantánea y a que escojan los productos o servicios que van acordes con sus necesidades. \\xa0\\nEn Bancolombia sabemos que la innovación digital fortalece la inclusión gracias a la interoperabilidad entre plataformas y sistemas de pago. Al crear un ecosistema que combina billeteras electrónicas, QR, y opciones de pago diferido, nos hemos adaptado a las necesidades de nuestros usuarios. Esto permite que personas en zonas rurales y urbanas interactúen con el sistema financiero de forma ágil y segura, lo que contribuye a reducir la brecha de acceso y fomenta una economía más digitalizada e inclusiva.\\xa0\\nCon\\xa0Nequi, Wompi y Wenia hemos diseñado estrategias que impulsan la inclusión financiera, la innovación y que expanden el acceso a servicios digitales para personas como tú, que buscan gestionar su plata de forma ágil, fluida y sin procesos complicados, así promovemos la digitalización de los pagos en el país. \\xa0\\n¿La interoperabilidad tiene algo que ver con mis pagos o transacciones?\\xa0\\xa0\\nSí, tiene mucha relación. Gracias a la interoperabilidad, el sector financiero se transforma al eliminar barreras entre entidades; esto permite que recibir y pasar plata sea más inclusivo y flexible. De hecho, hace posible que los sistemas de pago inmediatos funcionen de forma fluida, así puedes manejar tus recursos como quieras sin pensar en qué día u hora de la semana hacer transferencias o pagos. \\xa0\\nLa interoperabilidad en los sistemas de pago permite que los usuarios realicen transacciones entre diferentes entidades financieras de forma rápida y sin complicaciones. Y, si más personas saben cómo funciona este concepto, se reducirá el uso del efectivo, se mejorará la accesibilidad y el bienestar financiero de todos será una realidad.\\xa0\\nLos pagos digitales facilitan tu vida\\xa0\\nLos pagos digitales y la interoperabilidad bancaria están muy relacionados porque, gracias a que los sistemas se conectan con facilidad entre sí, puedes pasar y recibir plata digitalmente en segundos, sin importar que sea de otra entidad financiera. Así no tienes que inscribir cuentas cada vez que compras y tampoco esperar a que alguien más apruebe tu transferencia.\\xa0 \\xa0\\nAhora estamos familiarizados con\\xa0los pagos digitales e inmediatos porque son una solución que hace que tu vida sea más fácil.\\xa0Imagínate todo el tiempo que ahorras cuando pagas en un par de clics las cuotas de tu crédito o lo sencillo que es ahorrar plata si puedes comprar desde tu celular tiquetes de avión con un superdescuento.\\xa0\\xa0\\nAdemás, son más seguros, porque puedes ver cuánto gastas y en qué, y al usarlos constantemente te haces visible para el sistema financiero, así, podrás acceder a otros productos financieros en el futuro.\\xa0\\xa0\\n¿La interoperabilidad en Colombia es segura?\\xa0\\xa0\\nTodas tus transacciones y pagos están asegurados, por eso puedes manejar tu plata con absoluta tranquilidad. Esto se debe a que ocurren bajo un sistema vigilado y que está integrado con cada una de las operaciones que ofrecen las entidades financieras. Por un lado, se encuentran supervisadas por la Superintendencia Financiera y estos lineamientos nos aseguran que los recursos de nuestros usuarios estén dónde se supone que deben estar.\\nY, por el otro, todas las entidades financieras tienen sus propias\\xa0medidas de seguridad y prevención del fraude, configurarlas y usarlas hace que las cuentas de ahorro o corrientes y los depósitos de bajo monto sean cada vez más fuertes. En este sentido, tu participación, educación y acción es fundamental para prevenir todo tipo de delitos.\\xa0\\xa0\\nEl futuro de la interoperabilidad bancaria y los sistemas de pagos inmediatos\\nEn el 2025, manejar la plata será aún más sencillo.\\xa0El Sistema de Pagos Inmediatos (SPI), Bre-B, del Banco de la República, tiene como objetivo lograr que los colombianos confíen en las transacciones en línea y el uso del efectivo sea menor. Para cumplir con esta meta, las entidades bancarias que nos unamos a él tendremos un botón en nuestras aplicaciones a través del cual podrás realizar todos tus pagos y transferencias. \\xa0\\nCon este sistema ya no tendrás que esperar horas o días a que un pago se efectúe ni que la entidad financiera acepte la transferencia. De hecho, la promesa del Banco de la República es que será tan práctico y sencillo manejar tu plata que en 20 segundos la otra persona podrá recibir sus recursos sin problema. Y, para simplificar todo muchísimo más, ya no es un requisito dar un número de cuenta bancaria, sino una llave.\\xa0\\nLlaves y Sistema de Pagos Inmediatos (SPI)\\xa0\\xa0\\nAhora es común pasar plata usando el número de celular, pero también podrás usar tu documento de identidad, el correo electrónico o una alfanumérica que es una combinación entre números y letras basada en tus datos (por ejemplo, @Camilo2025) que te asigna tu entidad financiera. \\xa0\\nEstos identificadores serán conocidos como\\xa0llaves en el Sistema de Pagos Inmediatos, Bre-B, del Banco de la República.\\xa0Cada usuario podrá asignar la llave que prefiera a su cuenta de ahorros o corriente y a los depósitos de bajo monto con los que cuente. \\xa0\\nAl usar información personal y que, por lo general, se usa cotidianamente, se evita cometer el error de enviar plata a cuentas equivocadas y se disminuye el tiempo para hacer pagos o transferencias. Ten presente que\\xa0tus llaves Bancolombia podrás elegirlas en Bre \\x96 B en el segundo semestre del 2025.\\xa0\\nEn resumen, la interoperabilidad bancaria en Colombia está cambiando la forma en que las personas manejan su plata, haciendo que las transacciones financieras sean más rápidas, fáciles y accesibles para todos.\\xa0\\nRecomendaciones para escoger tu llave Bancolombia\\xa0\\nPara registrar Tus Llaves Bancolombia en Bre-B, ten en cuenta en qué las vas a usar y con quién las vas a compartir, así pasas el dato que más te funcione dependiendo de la situación. Por ejemplo, el celular o el documento de identidad para los amigos y la familia, ya que es una información que es fácil de recordar y puedes dárselo a las personas que conoces.\\xa0\\xa0\\xa0\\nEl correo electrónico para tus compras en línea y, tu llave Bancolombia, es decir, la que nosotros te damos y tiene números y letras, la puedes usar en muchos contextos diferentes.\\xa0\\xa0\\nRegistra Tus Llaves Bancolombia en Bre-B y decide las que mejor se adapten a tus necesidades. Recuerda actualizar la información en caso de cambios.\\xa0Conoce más consejos para escoger la ideal en este artículo.\\xa0\\nMueve plata en segundos y con seguridad\\xa0\\nLas llaves llegarán en el 2025 a facilitar la forma en que mueves tu plata. Así, los pagos digitales siguen siendo parte de tu vida al pagar el mercado, comprar una empanada o mantenerte al día con tu arriendo fácil y en segundos. Por eso, es muy importante que cuides siempre tus datos y tengas cuidado con las llamadas y los mensajes que recibes.\\xa0\\nExisten varios consejos que puedes seguir para proteger tus llaves Bancolombia y cuidar tu plata en todo momento.\\xa0Uno de los principales es que te tomes el tiempo para leer y releer muy bien los mensajes y correos que te envían. Aunque los delincuentes traten de imitar a tu entidad financiera, en realidad hay errores que te ayudan a identificar si se trata de un fraude.\\xa0\\xa0\\nFíjate en la ortografía, en los datos que te piden (en Bancolombia nunca te pediremos tu clave dinámica, por ejemplo), mira a detalle los enlaces y comprueba que los mensajes que nosotros te enviemos comiencen así:\\xa0https://bancol.co/. Si tienes dudas, envíalo a nuestro WhatsApp +57 300 887 6817 o reenvía los mails extraños a correosospechoso@bancolombia.com.co\\xa0\\nY si pierdo mi celular, ¿qué pasa con mis llaves Bancolombia?\\xa0\\xa0\\nLo principal es que sepas que cuando el Sistema de Pagos Inmediatos (SPI) del Banco de la República comience, todas las entidades que nos sumemos a él mantendremos nuestros estándares de seguridad para proteger cada una de tus transacciones. Pero,\\xa0si llegas a perder tu celular, ten en cuenta estas recomendaciones para que tu plata siempre esté segura:\\xa0\\n1. Actúa de inmediato para que tu entidad financiera bloquee los movimientos que se hagan en tu cuenta. \\xa0\\n2. Avísale a tu operador, así podrás bloquear el dispositivo perdido y proteger tus contactos, fotos y demás información confidencial. \\xa0\\n3. Protégete aún más colocando topes en tus transacciones y activando el sistema de alertas y notificaciones.\\xa0\\nEl número de cuenta dejará de existir, ¿verdad o mito?\\xa0\\xa0\\nMito.\\xa0Tu número de cuenta seguirá existiendo porque es una forma de identificar tus cuentas de ahorros, corrientes o depósitos de bajo monto.\\xa0Si quieres, puedes seguirla usando para realizar transacciones.\\xa0\\xa0\\nPero, con la llegada de Bre-B en el segundo semestre de 2025, no tendrás que dar un número de cuenta larguísimo porque al usar alguna de tus llaves Bancolombia lograrás de pasar plata entre diferentes entidades financieras en segundos.\\xa0\\xa0\\nMuchas veces, las transferencias entre cuentas bancarias pueden demorarse días y, si haces tus transacciones los fines de semana o festivos, deberás esperar hasta el lunes o martes para que sea efectiva. Así, que aprovecha las ventajas que te dará Bre-B para mover la plata a tu gusto.\\xa0\\n\\n¿Qué busca el Banco de la República?\\nEl Banco de la República analizó que, frente al uso tan alto del efectivo en Colombia (más del 70 % de las transacciones se hacen a través de este medio) era necesario tener un sistema de pagos fácil, rápido e inmediato y así fomentar la\\xa0inclusión financiera\\xa0en Colombia.\\nCon Bre-B, el Banco de la República busca que, sin importar la entidad financiera en la que estés, muevas tu plata, con los mismos estándares tecnológicos que permiten interactuar los sistemas que hoy funcionan de manera independiente. Esto significa poner en funcionamiento una infraestructura que los conecte y canalice las operaciones entre ellos.\\xa0\\xa0\\nEsta infraestructura tiene dos componentes principales:\\n1. Un módulo de liquidación:\\xa0para que todas las personas puedan transferir su plata 24/ 7. Esto les aporta a las personas eficiencia y seguridad.\\n2. Directorio central:\\xa0se estandarizará la experiencia del usuario para que en todos los lugares la forma de hacer transacciones sea fácil y bajo las mismas condiciones. Para hacer una transacción se usará una llave, la cual servirá para enviar plata a otra persona, más adelante encontrarás una explicación de cómo funcionarán estas identificaciones.\\n¿Qué es la interoperabilidad?\\nLa interoperabilidad\\xa0es la capacidad de conectar sistemas para habilitar la transferencia de información y la ejecución de transacciones entre diferentes entidades de manera fácil y eficiente. Para hacerlo más fácil, podemos dividir la palabra en dos:\\n* Inter:\\xa0entre organizaciones.\\n* Operabilidad:\\xa0listo y preparado para operar.\\nEl objetivo de la interoperabilidad es que las personas y negocios muevan su dinero fácilmente entre cuentas bancarias y depósitos de bajo monto entre las diferentes entidades que participan en el sistema financiero. La idea es que enviar y recibir plata sea un proceso rápido y sencillo.\\nEs importante mencionar que\\xa0la interoperabilidad trae muchos beneficios para las personas\\xa0al permitirles hacer un pago o una transferencia sin importar la entidad financiera en donde tengan su cuenta. Además, pueden usarlo personas con una cuenta digital o que manejan una prepagada.\\n¿Qué se logrará con el Sistema de Pagos Inmediatos en Colombia del Banco de la República, Bre-B?\\nEl objetivo es asegurar que las personas en Colombia tengan acceso a ese mundo digital y puedan hacer sus transacciones y pagos de una manera fácil y rápida, además de reducir el uso del efectivo. Esto es importante en términos de\\xa0inclusión financiera, competitividad y eficiencia para las personas y los negocios, especialmente para los pequeños. También, contribuye a que los colombianos\\xa0accedan a la economía formal\\xa0y dejen de lado otras opciones poco confiables.\\nCreo que podemos incluir algo relacionado con la reducción del efectivo!\\nVentajas de la interoperabilidad\\n* Mejora la digitalización de los pagos y transferencias en Colombia.\\n* Permite los pagos y transferencias inmediatas.\\n* Genera eficiencias en el sistema de pagos tanto para consumidores financieros como paralas entidades.\\n* Promueve la\\xa0inclusión financiera.\\n* Fomenta la formalización en pequeños negocios.\\n¿Qué es Bre-B?\\nEl jueves 1° de agosto de 2024, el Banco de la República presentó Bre-B, el nombre que identifica el\\xa0Sistema de Pagos Inmediatos e Interoperables en Colombia.\\nBre-B entrará a ser parte de los\\xa0servicios de interoperabilidad en nuestro país\\xa0, donde plataformas ya conocidas como\\xa0Transfiya\\xa0se conectarán entre sí, lo que permite a los usuarios hacer transferencias entre diferentes entidades financieras en cuestión de segundos, facilitando la vida de la gente con pagos digitales a un clic\\nSe espera que este sistema entre en funcionamiento a partir del segundo semestre de 2025 y estará disponible para los usuarios desde las aplicaciones de las entidades financieras.\\n¿Cómo funcionará Bre-B?\\nLos pagos y transferencias interoperables funcionarán con \"llaves\".\\xa0Las llaves serán identificadores únicos\\xa0conectados a tu cuenta bancaria o a tu depósito de bajo monto. Cada persona podrá escoger la llave de su preferencia y registrarla en la entidad en la que mueve su plata y que se una al nuevo Sistema de Pagos Inmediatos del Banco de la República.\\nTendrás 4 opciones de llaves para registrar. Tú eliges cuáles serán tus Llaves Bancolombia en Bre-B:\\xa0\\xa0\\n* Documento de identidad\\xa0\\n* Número de celular\\n* Correo electrónico\\n* Código alfanumérico (conformado por letras y números. Este te lo da tu banco)\\xa0\\xa0\\n* Para los comercios, aplica el identificador de comercio\\xa0\\n¿No sabes qué llave elegir o en qué situaciones usarla? No te preocupes,\\xa0en este artículo te damos una guía práctica para que lo puedas hacer sin complicaciones\\xa0\\xa0\\nEn Bre-B podrás tener más de una llave: varios correos, varios celulares o varias llaves alfanuméricas. Para tu cuenta bancaria o tu depósito de bajo monto puedes tener varias llaves, pero no puedes elegir una llave en más de una cuenta o depósito.\\xa0\\nUsar las llaves es fácil:\\n1. Registra tus llaves:\\xa0elige qué llave quieres asociar a tu número de cuenta o a tu depósito de bajo monto.\\n2. Comparte tu llave:\\xa0con la persona que te enviará plata. No importa de qué entidad financiera venga el pago.\\n3. Transfiere seguro:\\xa0antes de enviar tu plata, confirma la llave de la persona a la que le vas a transferir y el valor.\\nCuando tengas tu llave registrada ya no tendrás que dar tu número de cuenta. Con tus llaves será más fácil y sin necesidad de dar otros datos. Si una persona quiere enviar plata, entrará a la app de su entidad y encontrará dos campos: el campo llave y el campo monto de la transacción. ¿Y lo mejor? Esta experiencia será muy similar en todas las entidades.\\n¿Bre-B será una nueva aplicación para pasar plata?\\nNo, para usar Bre-B no tendrás que descargar ninguna aplicación. En el segundo semestre de 2025 vas a ver una opción dentro de las aplicaciones de las entidades financieras.\\n\\nCon Bre-B, sin importar tu entidad financiera, podrás pasar y recibir plata en segundos. Lo único que tendrás que hacer es inscribir tus llaves y elegir a qué cuenta de ahorro, corriente o depósito de bajo monto las vas a asociar. Pueden ser tu documento de identidad, tu llave Bancolombia, número de celular o correo electrónico.\\nTodo este proceso será breve en la app Mi Bancolombia sin ir a la sucursal física, ni descargar ninguna aplicación para inscribirlas.\\nEn conclusión, ¿Bre-B cambiará la forma en la que las personas mueven su plata?\\nCon Bre-B más personas podrán acceder al sistema de pagos digitales inmediatos. Esto ayudará al país a avanzar en el proceso de digitalización y a incluir a más personas en el sistema financiero. Y, por la seguridad no te preocupes, pues este sistema contará con todas las\\xa0medidas para prevenir el fraude, entre otro tipo de delitos.\\nBre-B será esa ventana para que las personas puedan enviar dinero o hacer pagos entre cuentas de diferentes entidades a cualquier hora y día de la semana. Esto hace que enviar y recibir dinero sea rápido y fácil, sin importar a qué entidad pertenezcan. Llegará en 2025 y ahí estaremos. En Bancolombia impulsamos la inmediatez en pagos.\\n¿Qué es un medio de pago?\\nNo hay sistemas de pago sin medios de pago, pero ¿qué significan esas palabras? Los medios de pago son todos los productos financieros que tienes a tu alcance para poder pagar, como tu cuenta bancaria o tu depósito de bajo monto, por ejemplo, Bancolombia A la mano. De hecho, los usas a diario con las tarjetas débito o crédito e incluso con el QR con el que pagas por un servicio o producto en tu barrio.\\nLos medios de pago evolucionan a medida que el país, las situaciones y las personas también lo hacen, por eso, ahora encuentras muchas alternativas que acercan los servicios financieros a la gente y a las empresas.\\nLatinoamérica es una región que se ha caracterizado por tener un amplio uso del efectivo y porque muchas personas aún no tienen una cuenta en el banco o en billeteras digitales como Nequi, pero esta realidad ha cambiado y cada vez son más las posibilidades para que los pagos se hagan en minutos y sin complicaciones.\\nDentro de este contexto, las transacciones en línea también juegan un papel importante, con pocos clics pagas el recibo de la luz, alguna compra en internet o disfrutas de tu película favorita. La facilidad con la que se hacen estos pagos y cómo lo usamos en la vida diaria ha hecho que las empresas del sector financiero hablen cada vez más de interoperabilidad.\\n¿Interoperabilidad? ¿Eso qué es?\\nLa interoperabilidad, en pocas palabras, es poder mover tu plata sin importar el banco en el que estés o cuál tenga la persona que la reciba.\\xa0Tú haces pagos interoperables con una transferencia a un familiar que tiene una cuenta en otra entidad o en el momento en el que usas plataformas como PSE para tus compras por internet. Pero esta palabra va mucho más allá, también hace referencia a que este proceso sea fácil, sin complicaciones y en minutos.\\nDesde Bancolombia hemos logrado adaptarnos a los cambios y estar al frente de las tendencias, pues sabemos que cada innovación y nueva propuesta en la industria financiera ayuda a que nuestros clientes logren el bienestar que merecen.\\n¿De qué me sirven la interoperabilidad y los sistemas de pago inmediatos?\\xa0\\xa0\\nEntendemos que te hagas estas preguntas y, aunque no lo creas, tienen más relación contigo de lo que te imaginas. A partir del 2025 empezará a funcionar, por determinación del Banco de la República,\\xa0el Sistema de Pagos Inmediatos e Interoperables que se llamará Bre-B. Desde este año empezarás a escuchar mucho sobre llaves y verás que los bancos contaremos con un nuevo sello con el que podrás identificarlo.\\xa0\\xa0\\nBre-B tiene el objetivo de disminuir el uso del efectivo, impulsar mucho más la inclusión financiera y facilitar las transacciones y pagos entre diversas entidades mediante el uso de llaves.\\xa0Las llaves serán un identificador para tus medios de pago (cuentas bancarias o depósitos de bajo monto),\\xa0pero para evitar errores y que sea muy fácil recordarlo, podrás escoger diferentes tipos de llaves a partir de datos que usas en tu día a día: número de celular, cédula de ciudadanía, correo electrónico o una opción alfanumérica, es decir, una combinación de letras y números única que te asignará tu banco.\\xa0\\nCon Bre-B podrás pasar plata en cualquier momento del día sin importar si es fin de semana o si haces una transacción a las tres de la mañana. ¿Y esto sí es un cambio? Claro que sí, la promesa de valor es que las transacciones duren alrededor de 20 segundos desde que inicia la operación hasta que la plata llega a la cuenta de la otra entidad, ya no tendrás que esperar horas o que no sea festivo.\\xa0\\nDe acuerdo con Ana María Prieto, directora del departamento de Sistemas de Pago del Banco de la República, la primera fase será de inscripción, es decir, deberás registrar las llaves que más te sirven para enviar y recibir plata dependiendo la entidad donde tengas algún medio de pago. Luego de esta etapa, comenzará la operación total del sistema.\\xa0\\xa0\\n¿Qué viene después con el sistema de pagos inmediatos?\\xa0\\xa0\\nEl sistema de pagos inmediatos abre una amplia gama de posibilidades para todos los colombianos. Se trata de un ecosistema óptimo, rápido y seguro con el que podrás manejar tu plata y superar todas esas barreras que a veces existen entre entidades financieras. Pronto verás que es muy fácil, en pocos pasos y muy útil para las finanzas de tu vida diaria.\\nEn Bancolombia estamos siempre a la vanguardia con todas estas innovaciones que transforman el sistema financiero y que brindan oportunidades a nuestros clientes para alcanzar el bienestar, mejorar su relación con la plata y lograr sus objetivos. Por eso, seguiremos construyendo un ecosistema de pagos eficiente a través de soluciones únicas: Wompi, Nequi, Bancolombia A la mano y mucho más.\\n\\n\\n¿Qué son las Llaves\\nde Bre-B?\\nEs el identificador que el cliente debe registrar en la entidad de su preferencia y se vincula con su medio de pago (cuenta o depósito electrónico).\\n\\nLa Llave es el dato que deberá compartirle a la persona que le va a enviar dinero a usted.\\nLas opciones de Llave las ofrece la entidad según la información que el usuario tenga registrada.\\n\\n¿Cómo puedo crear una Llave?\\nA través de los canales digitales de la entidad donde tenga su cuenta o depósito electrónico.\\n\\nSe podrá escoger entre cuatro tipos de llaves:\\n1. Número de documento de identidad\\n2. Número de celular\\n3. Identificador alfanumérico generado aleatoriamente por su entidad\\n4. Correo electrónico\\n\\nAdemás,\\n5. Los comercios podrán elegir el código de comercio asignado por la entidad donde tienen su medio de pago\\n\\nUna llave solo se puede asociar a una cuenta o deposito, sin embargo, una cuenta o deposito puede estar asociada a varias llaves.\\n\\n\\n\\n¿Qué tipos de pagos y transferencias se pueden hacer con Bre-B?\\nSe pueden hacer pagos y transferencias de persona a persona o de persona a comercio.\\n\\nPara enviar (pagar o transferir de manera inmediata) necesita:\\n\\n\\nTener una cuenta o depósito en alguna entidad desde donde saldrá el dinero.\\nConocer la Llave de la persona o (comercio) que recibirá el dinero o escanear el código QR.\\nSaber el monto que va a pagar o transferir de manera inmediata.\\nPara recibir\\ndebe vincular una Llave a la cuenta o depósito donde desee que llegue el dinero.\\nNo es necesario tener una Llave para enviar dinero, pero sí es necesario para recibir\\n¿Cuánto dinero podré transferir por Bre-B?\\nPuede hacer desde pagos cotidianos de bajo monto hasta transferencias por\\n\\n11.552.000 pesos*,\\nsu entidad puede establecer un monto menor, limitar el número de transacciones diarias o establecer otros criterios por motivos de seguridad.\\n\\n\\n*El valor máximo por transacción en Bre-B es de 1.000 unidades de valor básico (UVB) del año en curso. Para el 2025 es de COP 11.552.\\n\\nCódigo QR\\nBre-B también tiene códigos QR.\\nSolo escanee el código QR para iniciar el pago o transferencia.\\n\\n\\n*Los comercios pueden hacer uso de los códigos QR desde el inicio de operación de Bre-B y las personas naturales a partir del primer semestre de 2026.\\n\\n¿Qué es Bre-B?\\nEs el nuevo sistema de pagos inmediatos interoperado de Colombia que permitirá hacer pagos y transferencias al instante, sin importar la entidad donde tenga su cuenta o depósito electrónico.\\n\\n\\nIdentificará la nueva forma de hacer pagos y transferencias inmediatas de forma sencilla, sin importar la hora o el día, inclusive si es fin de semana o festivo.\\n\\n\\n\\n¿Dónde se encontrará?\\nEn los canales digitales de la entidad donde tenga su cuenta o depósito electrónico.\\n\\n\\n¿Quiénes podrán usarlo?\\nCualquier persona o comercio a través de los canales digitales donde tenga su cuenta o depósito electrónico.\\n\\n\\n\\n¿Cuándo estará disponible?\\nDesde el segundo semestre de 2025.\\n\\n \\n¿Qué beneficios tendrá Bre-B?\\nSolo con la Llave o leyendo un código QR y el monto, podrá realizar un pago o transferencia.\\nPermite hacer pagos o transferencias entre distintas entidades.\\n¡El dinero llega en segundos\\nal destinatario!\\nPuede hacer transferencias a cualquier hora y cualquier día de la semana.\\n \\n¿Qué permite un sistema de pagos inmediatos?\\n\\nPermite realizar pagos y transferencias de manera inmediata sin importar la entidad financiera o cooperativa donde tenga su cuenta o depósito.\\n\\n\\nSignifica que permite realizar transferencias o pagos las 24 horas del día, los 7 días de la semana y los 365 días del año.\\n\\nCon un sistema de pagos inmediatos interoperable podrá enviar y recibir dinero al instante, sin importar la entidad donde tenga su cuenta o depósito.\\n')]"
            ]
          },
          "execution_count": 4,
          "metadata": {},
          "output_type": "execute_result"
        }
      ],
      "source": [
        "loader = TextLoader(r'/content/bre-b.txt', encoding='latin1')\n",
        "documents = loader.load()\n",
        "documents"
      ]
    },
    {
      "cell_type": "markdown",
      "metadata": {
        "id": "8M4a7dguc_lT"
      },
      "source": [
        "### 2.Segmentación del texto(chunking)."
      ]
    },
    {
      "cell_type": "code",
      "execution_count": 5,
      "metadata": {
        "colab": {
          "base_uri": "https://localhost:8080/"
        },
        "id": "le3XCYHFfI5y",
        "outputId": "6df43f57-beb9-40ba-dc9f-04d24c23448a"
      },
      "outputs": [
        {
          "data": {
            "text/plain": [
              "[Document(metadata={'source': '/content/bre-b.txt'}, page_content='La interoperabilidad bancaria en Colombia ha ganado relevancia en los últimos años. Pero ¿qué significa exactamente y cómo hace parte del día a día de las personas?\\xa0\\n¿Qué es la interoperabilidad bancaria?\\nLa interoperabilidad en el sistema financiero es la capacidad de hacer transacciones financieras de manera fluida y eficiente a través de la interconexión entre diferentes entidades que hacen parte de la industria financiera.\\xa0\\n\\xa0Imagina que tienes una cuenta en el\\xa0Banco A, pero necesitas hacer un pago o transferencia a alguien que tiene una cuenta en el\\xa0Banco B. Antes, este proceso podía ser complicado y lento debido a los sistemas y procesos de cada banco.\\xa0\\xa0\\n\\xa0Por medio de la interoperabilidad, puedes hacer esta transacción de manera rápida y sencilla, sin importar en qué entidad tengas tu cuenta. Este concepto no es nuevo en el país; ejemplos como\\xa0Transfiya\\xa0y\\xa0PSE\\xa0demuestran que la interoperabilidad se viene trabajando desde hace tiempo promoviendo la agilidad en las transacciones.'),\n",
              " Document(metadata={'source': '/content/bre-b.txt'}, page_content='Beneficios de la interoperabilidad\\nLa interoperabilidad en la prestación de servicios financieros es un paso importante hacia la\\xa0inclusión financiera y la bancarización de personas\\xa0que aún no tienen acceso al sistema financiero y, en algunos casos,\\xa0desconocimiento sobre los productos y servicios que ofrecen\\xa0las entidades de este sector. \\xa0\\nEsto, también facilita que la gente se involucre con la economía formal y no elija opciones que no son confiables. Además, la interoperabilidad hace más sencillas tus transacciones diarias, como pagar a comercios o enviar dinero a amigos y familiares.\\xa0\\nLa interoperabilidad aplica para las cuentas bancarias tradicionales y para los depósitos de bajo monto\\xa0como\\xa0Nequi, lo que significa que incluso si no tienes una cuenta bancaria tradicional, puedes beneficiarte de la\\xa0facilidad\\xa0y\\xa0eficiencia\\xa0que ofrece.\\xa0\\nVentajas de la interoperabilidad financiera para las personas'),\n",
              " Document(metadata={'source': '/content/bre-b.txt'}, page_content='La interoperabilidad bancaria no solo promueve la inclusión financiera al reducir el uso de efectivo, sino que también te brinda mayor seguridad y fomenta una experiencia más fluida y cómoda al ofrecer una red de transacciones accesible y segura para las personas y negocios por igual.\\xa0\\nPero\\xa0los beneficios de la interoperabilidad en el sector financiero\\xa0para las personas no se detienen allí: ayuda a formalizar la economía, a que los usuarios manejen su dinero con más libertad al transferir fondos entre entidades de manera casi instantánea y a que escojan los productos o servicios que van acordes con sus necesidades.'),\n",
              " Document(metadata={'source': '/content/bre-b.txt'}, page_content='En Bancolombia sabemos que la innovación digital fortalece la inclusión gracias a la interoperabilidad entre plataformas y sistemas de pago. Al crear un ecosistema que combina billeteras electrónicas, QR, y opciones de pago diferido, nos hemos adaptado a las necesidades de nuestros usuarios. Esto permite que personas en zonas rurales y urbanas interactúen con el sistema financiero de forma ágil y segura, lo que contribuye a reducir la brecha de acceso y fomenta una economía más digitalizada e inclusiva.\\xa0\\nCon\\xa0Nequi, Wompi y Wenia hemos diseñado estrategias que impulsan la inclusión financiera, la innovación y que expanden el acceso a servicios digitales para personas como tú, que buscan gestionar su plata de forma ágil, fluida y sin procesos complicados, así promovemos la digitalización de los pagos en el país. \\xa0\\n¿La interoperabilidad tiene algo que ver con mis pagos o transacciones?'),\n",
              " Document(metadata={'source': '/content/bre-b.txt'}, page_content='Sí, tiene mucha relación. Gracias a la interoperabilidad, el sector financiero se transforma al eliminar barreras entre entidades; esto permite que recibir y pasar plata sea más inclusivo y flexible. De hecho, hace posible que los sistemas de pago inmediatos funcionen de forma fluida, así puedes manejar tus recursos como quieras sin pensar en qué día u hora de la semana hacer transferencias o pagos. \\xa0\\nLa interoperabilidad en los sistemas de pago permite que los usuarios realicen transacciones entre diferentes entidades financieras de forma rápida y sin complicaciones. Y, si más personas saben cómo funciona este concepto, se reducirá el uso del efectivo, se mejorará la accesibilidad y el bienestar financiero de todos será una realidad.\\xa0\\nLos pagos digitales facilitan tu vida'),\n",
              " Document(metadata={'source': '/content/bre-b.txt'}, page_content='Los pagos digitales y la interoperabilidad bancaria están muy relacionados porque, gracias a que los sistemas se conectan con facilidad entre sí, puedes pasar y recibir plata digitalmente en segundos, sin importar que sea de otra entidad financiera. Así no tienes que inscribir cuentas cada vez que compras y tampoco esperar a que alguien más apruebe tu transferencia.\\xa0 \\xa0\\nAhora estamos familiarizados con\\xa0los pagos digitales e inmediatos porque son una solución que hace que tu vida sea más fácil.\\xa0Imagínate todo el tiempo que ahorras cuando pagas en un par de clics las cuotas de tu crédito o lo sencillo que es ahorrar plata si puedes comprar desde tu celular tiquetes de avión con un superdescuento.\\xa0\\xa0\\nAdemás, son más seguros, porque puedes ver cuánto gastas y en qué, y al usarlos constantemente te haces visible para el sistema financiero, así, podrás acceder a otros productos financieros en el futuro.\\xa0\\xa0\\n¿La interoperabilidad en Colombia es segura?'),\n",
              " Document(metadata={'source': '/content/bre-b.txt'}, page_content='Todas tus transacciones y pagos están asegurados, por eso puedes manejar tu plata con absoluta tranquilidad. Esto se debe a que ocurren bajo un sistema vigilado y que está integrado con cada una de las operaciones que ofrecen las entidades financieras. Por un lado, se encuentran supervisadas por la Superintendencia Financiera y estos lineamientos nos aseguran que los recursos de nuestros usuarios estén dónde se supone que deben estar.\\nY, por el otro, todas las entidades financieras tienen sus propias\\xa0medidas de seguridad y prevención del fraude, configurarlas y usarlas hace que las cuentas de ahorro o corrientes y los depósitos de bajo monto sean cada vez más fuertes. En este sentido, tu participación, educación y acción es fundamental para prevenir todo tipo de delitos.\\xa0\\xa0\\nEl futuro de la interoperabilidad bancaria y los sistemas de pagos inmediatos'),\n",
              " Document(metadata={'source': '/content/bre-b.txt'}, page_content='En el 2025, manejar la plata será aún más sencillo.\\xa0El Sistema de Pagos Inmediatos (SPI), Bre-B, del Banco de la República, tiene como objetivo lograr que los colombianos confíen en las transacciones en línea y el uso del efectivo sea menor. Para cumplir con esta meta, las entidades bancarias que nos unamos a él tendremos un botón en nuestras aplicaciones a través del cual podrás realizar todos tus pagos y transferencias. \\xa0\\nCon este sistema ya no tendrás que esperar horas o días a que un pago se efectúe ni que la entidad financiera acepte la transferencia. De hecho, la promesa del Banco de la República es que será tan práctico y sencillo manejar tu plata que en 20 segundos la otra persona podrá recibir sus recursos sin problema. Y, para simplificar todo muchísimo más, ya no es un requisito dar un número de cuenta bancaria, sino una llave.\\xa0\\nLlaves y Sistema de Pagos Inmediatos (SPI)'),\n",
              " Document(metadata={'source': '/content/bre-b.txt'}, page_content='Ahora es común pasar plata usando el número de celular, pero también podrás usar tu documento de identidad, el correo electrónico o una alfanumérica que es una combinación entre números y letras basada en tus datos (por ejemplo, @Camilo2025) que te asigna tu entidad financiera. \\xa0\\nEstos identificadores serán conocidos como\\xa0llaves en el Sistema de Pagos Inmediatos, Bre-B, del Banco de la República.\\xa0Cada usuario podrá asignar la llave que prefiera a su cuenta de ahorros o corriente y a los depósitos de bajo monto con los que cuente. \\xa0\\nAl usar información personal y que, por lo general, se usa cotidianamente, se evita cometer el error de enviar plata a cuentas equivocadas y se disminuye el tiempo para hacer pagos o transferencias. Ten presente que\\xa0tus llaves Bancolombia podrás elegirlas en Bre \\x96 B en el segundo semestre del 2025.'),\n",
              " Document(metadata={'source': '/content/bre-b.txt'}, page_content='En resumen, la interoperabilidad bancaria en Colombia está cambiando la forma en que las personas manejan su plata, haciendo que las transacciones financieras sean más rápidas, fáciles y accesibles para todos.\\xa0\\nRecomendaciones para escoger tu llave Bancolombia\\xa0\\nPara registrar Tus Llaves Bancolombia en Bre-B, ten en cuenta en qué las vas a usar y con quién las vas a compartir, así pasas el dato que más te funcione dependiendo de la situación. Por ejemplo, el celular o el documento de identidad para los amigos y la familia, ya que es una información que es fácil de recordar y puedes dárselo a las personas que conoces.\\xa0\\xa0\\xa0\\nEl correo electrónico para tus compras en línea y, tu llave Bancolombia, es decir, la que nosotros te damos y tiene números y letras, la puedes usar en muchos contextos diferentes.'),\n",
              " Document(metadata={'source': '/content/bre-b.txt'}, page_content='Registra Tus Llaves Bancolombia en Bre-B y decide las que mejor se adapten a tus necesidades. Recuerda actualizar la información en caso de cambios.\\xa0Conoce más consejos para escoger la ideal en este artículo.\\xa0\\nMueve plata en segundos y con seguridad\\xa0\\nLas llaves llegarán en el 2025 a facilitar la forma en que mueves tu plata. Así, los pagos digitales siguen siendo parte de tu vida al pagar el mercado, comprar una empanada o mantenerte al día con tu arriendo fácil y en segundos. Por eso, es muy importante que cuides siempre tus datos y tengas cuidado con las llamadas y los mensajes que recibes.\\xa0\\nExisten varios consejos que puedes seguir para proteger tus llaves Bancolombia y cuidar tu plata en todo momento.\\xa0Uno de los principales es que te tomes el tiempo para leer y releer muy bien los mensajes y correos que te envían. Aunque los delincuentes traten de imitar a tu entidad financiera, en realidad hay errores que te ayudan a identificar si se trata de un fraude.'),\n",
              " Document(metadata={'source': '/content/bre-b.txt'}, page_content='Fíjate en la ortografía, en los datos que te piden (en Bancolombia nunca te pediremos tu clave dinámica, por ejemplo), mira a detalle los enlaces y comprueba que los mensajes que nosotros te enviemos comiencen así:\\xa0https://bancol.co/. Si tienes dudas, envíalo a nuestro WhatsApp +57 300 887 6817 o reenvía los mails extraños a correosospechoso@bancolombia.com.co\\xa0\\nY si pierdo mi celular, ¿qué pasa con mis llaves Bancolombia?\\xa0\\xa0\\nLo principal es que sepas que cuando el Sistema de Pagos Inmediatos (SPI) del Banco de la República comience, todas las entidades que nos sumemos a él mantendremos nuestros estándares de seguridad para proteger cada una de tus transacciones. Pero,\\xa0si llegas a perder tu celular, ten en cuenta estas recomendaciones para que tu plata siempre esté segura:\\xa0\\n1. Actúa de inmediato para que tu entidad financiera bloquee los movimientos que se hagan en tu cuenta.'),\n",
              " Document(metadata={'source': '/content/bre-b.txt'}, page_content='2. Avísale a tu operador, así podrás bloquear el dispositivo perdido y proteger tus contactos, fotos y demás información confidencial. \\xa0\\n3. Protégete aún más colocando topes en tus transacciones y activando el sistema de alertas y notificaciones.\\xa0\\nEl número de cuenta dejará de existir, ¿verdad o mito?\\xa0\\xa0\\nMito.\\xa0Tu número de cuenta seguirá existiendo porque es una forma de identificar tus cuentas de ahorros, corrientes o depósitos de bajo monto.\\xa0Si quieres, puedes seguirla usando para realizar transacciones.\\xa0\\xa0\\nPero, con la llegada de Bre-B en el segundo semestre de 2025, no tendrás que dar un número de cuenta larguísimo porque al usar alguna de tus llaves Bancolombia lograrás de pasar plata entre diferentes entidades financieras en segundos.'),\n",
              " Document(metadata={'source': '/content/bre-b.txt'}, page_content='Muchas veces, las transferencias entre cuentas bancarias pueden demorarse días y, si haces tus transacciones los fines de semana o festivos, deberás esperar hasta el lunes o martes para que sea efectiva. Así, que aprovecha las ventajas que te dará Bre-B para mover la plata a tu gusto.'),\n",
              " Document(metadata={'source': '/content/bre-b.txt'}, page_content='¿Qué busca el Banco de la República?\\nEl Banco de la República analizó que, frente al uso tan alto del efectivo en Colombia (más del 70 % de las transacciones se hacen a través de este medio) era necesario tener un sistema de pagos fácil, rápido e inmediato y así fomentar la\\xa0inclusión financiera\\xa0en Colombia.\\nCon Bre-B, el Banco de la República busca que, sin importar la entidad financiera en la que estés, muevas tu plata, con los mismos estándares tecnológicos que permiten interactuar los sistemas que hoy funcionan de manera independiente. Esto significa poner en funcionamiento una infraestructura que los conecte y canalice las operaciones entre ellos.\\xa0\\xa0\\nEsta infraestructura tiene dos componentes principales:\\n1. Un módulo de liquidación:\\xa0para que todas las personas puedan transferir su plata 24/ 7. Esto les aporta a las personas eficiencia y seguridad.'),\n",
              " Document(metadata={'source': '/content/bre-b.txt'}, page_content='2. Directorio central:\\xa0se estandarizará la experiencia del usuario para que en todos los lugares la forma de hacer transacciones sea fácil y bajo las mismas condiciones. Para hacer una transacción se usará una llave, la cual servirá para enviar plata a otra persona, más adelante encontrarás una explicación de cómo funcionarán estas identificaciones.\\n¿Qué es la interoperabilidad?\\nLa interoperabilidad\\xa0es la capacidad de conectar sistemas para habilitar la transferencia de información y la ejecución de transacciones entre diferentes entidades de manera fácil y eficiente. Para hacerlo más fácil, podemos dividir la palabra en dos:\\n* Inter:\\xa0entre organizaciones.\\n* Operabilidad:\\xa0listo y preparado para operar.'),\n",
              " Document(metadata={'source': '/content/bre-b.txt'}, page_content='El objetivo de la interoperabilidad es que las personas y negocios muevan su dinero fácilmente entre cuentas bancarias y depósitos de bajo monto entre las diferentes entidades que participan en el sistema financiero. La idea es que enviar y recibir plata sea un proceso rápido y sencillo.\\nEs importante mencionar que\\xa0la interoperabilidad trae muchos beneficios para las personas\\xa0al permitirles hacer un pago o una transferencia sin importar la entidad financiera en donde tengan su cuenta. Además, pueden usarlo personas con una cuenta digital o que manejan una prepagada.\\n¿Qué se logrará con el Sistema de Pagos Inmediatos en Colombia del Banco de la República, Bre-B?'),\n",
              " Document(metadata={'source': '/content/bre-b.txt'}, page_content='El objetivo es asegurar que las personas en Colombia tengan acceso a ese mundo digital y puedan hacer sus transacciones y pagos de una manera fácil y rápida, además de reducir el uso del efectivo. Esto es importante en términos de\\xa0inclusión financiera, competitividad y eficiencia para las personas y los negocios, especialmente para los pequeños. También, contribuye a que los colombianos\\xa0accedan a la economía formal\\xa0y dejen de lado otras opciones poco confiables.\\nCreo que podemos incluir algo relacionado con la reducción del efectivo!\\nVentajas de la interoperabilidad\\n* Mejora la digitalización de los pagos y transferencias en Colombia.\\n* Permite los pagos y transferencias inmediatas.\\n* Genera eficiencias en el sistema de pagos tanto para consumidores financieros como paralas entidades.\\n* Promueve la\\xa0inclusión financiera.\\n* Fomenta la formalización en pequeños negocios.\\n¿Qué es Bre-B?'),\n",
              " Document(metadata={'source': '/content/bre-b.txt'}, page_content='El jueves 1° de agosto de 2024, el Banco de la República presentó Bre-B, el nombre que identifica el\\xa0Sistema de Pagos Inmediatos e Interoperables en Colombia.\\nBre-B entrará a ser parte de los\\xa0servicios de interoperabilidad en nuestro país\\xa0, donde plataformas ya conocidas como\\xa0Transfiya\\xa0se conectarán entre sí, lo que permite a los usuarios hacer transferencias entre diferentes entidades financieras en cuestión de segundos, facilitando la vida de la gente con pagos digitales a un clic\\nSe espera que este sistema entre en funcionamiento a partir del segundo semestre de 2025 y estará disponible para los usuarios desde las aplicaciones de las entidades financieras.\\n¿Cómo funcionará Bre-B?'),\n",
              " Document(metadata={'source': '/content/bre-b.txt'}, page_content='Los pagos y transferencias interoperables funcionarán con \"llaves\".\\xa0Las llaves serán identificadores únicos\\xa0conectados a tu cuenta bancaria o a tu depósito de bajo monto. Cada persona podrá escoger la llave de su preferencia y registrarla en la entidad en la que mueve su plata y que se una al nuevo Sistema de Pagos Inmediatos del Banco de la República.\\nTendrás 4 opciones de llaves para registrar. Tú eliges cuáles serán tus Llaves Bancolombia en Bre-B:\\xa0\\xa0\\n* Documento de identidad\\xa0\\n* Número de celular\\n* Correo electrónico\\n* Código alfanumérico (conformado por letras y números. Este te lo da tu banco)\\xa0\\xa0\\n* Para los comercios, aplica el identificador de comercio\\xa0\\n¿No sabes qué llave elegir o en qué situaciones usarla? No te preocupes,\\xa0en este artículo te damos una guía práctica para que lo puedas hacer sin complicaciones'),\n",
              " Document(metadata={'source': '/content/bre-b.txt'}, page_content='En Bre-B podrás tener más de una llave: varios correos, varios celulares o varias llaves alfanuméricas. Para tu cuenta bancaria o tu depósito de bajo monto puedes tener varias llaves, pero no puedes elegir una llave en más de una cuenta o depósito.\\xa0\\nUsar las llaves es fácil:\\n1. Registra tus llaves:\\xa0elige qué llave quieres asociar a tu número de cuenta o a tu depósito de bajo monto.\\n2. Comparte tu llave:\\xa0con la persona que te enviará plata. No importa de qué entidad financiera venga el pago.\\n3. Transfiere seguro:\\xa0antes de enviar tu plata, confirma la llave de la persona a la que le vas a transferir y el valor.\\nCuando tengas tu llave registrada ya no tendrás que dar tu número de cuenta. Con tus llaves será más fácil y sin necesidad de dar otros datos. Si una persona quiere enviar plata, entrará a la app de su entidad y encontrará dos campos: el campo llave y el campo monto de la transacción. ¿Y lo mejor? Esta experiencia será muy similar en todas las entidades.'),\n",
              " Document(metadata={'source': '/content/bre-b.txt'}, page_content='¿Bre-B será una nueva aplicación para pasar plata?\\nNo, para usar Bre-B no tendrás que descargar ninguna aplicación. En el segundo semestre de 2025 vas a ver una opción dentro de las aplicaciones de las entidades financieras.'),\n",
              " Document(metadata={'source': '/content/bre-b.txt'}, page_content='Con Bre-B, sin importar tu entidad financiera, podrás pasar y recibir plata en segundos. Lo único que tendrás que hacer es inscribir tus llaves y elegir a qué cuenta de ahorro, corriente o depósito de bajo monto las vas a asociar. Pueden ser tu documento de identidad, tu llave Bancolombia, número de celular o correo electrónico.\\nTodo este proceso será breve en la app Mi Bancolombia sin ir a la sucursal física, ni descargar ninguna aplicación para inscribirlas.\\nEn conclusión, ¿Bre-B cambiará la forma en la que las personas mueven su plata?\\nCon Bre-B más personas podrán acceder al sistema de pagos digitales inmediatos. Esto ayudará al país a avanzar en el proceso de digitalización y a incluir a más personas en el sistema financiero. Y, por la seguridad no te preocupes, pues este sistema contará con todas las\\xa0medidas para prevenir el fraude, entre otro tipo de delitos.'),\n",
              " Document(metadata={'source': '/content/bre-b.txt'}, page_content='Bre-B será esa ventana para que las personas puedan enviar dinero o hacer pagos entre cuentas de diferentes entidades a cualquier hora y día de la semana. Esto hace que enviar y recibir dinero sea rápido y fácil, sin importar a qué entidad pertenezcan. Llegará en 2025 y ahí estaremos. En Bancolombia impulsamos la inmediatez en pagos.\\n¿Qué es un medio de pago?\\nNo hay sistemas de pago sin medios de pago, pero ¿qué significan esas palabras? Los medios de pago son todos los productos financieros que tienes a tu alcance para poder pagar, como tu cuenta bancaria o tu depósito de bajo monto, por ejemplo, Bancolombia A la mano. De hecho, los usas a diario con las tarjetas débito o crédito e incluso con el QR con el que pagas por un servicio o producto en tu barrio.\\nLos medios de pago evolucionan a medida que el país, las situaciones y las personas también lo hacen, por eso, ahora encuentras muchas alternativas que acercan los servicios financieros a la gente y a las empresas.'),\n",
              " Document(metadata={'source': '/content/bre-b.txt'}, page_content='Latinoamérica es una región que se ha caracterizado por tener un amplio uso del efectivo y porque muchas personas aún no tienen una cuenta en el banco o en billeteras digitales como Nequi, pero esta realidad ha cambiado y cada vez son más las posibilidades para que los pagos se hagan en minutos y sin complicaciones.\\nDentro de este contexto, las transacciones en línea también juegan un papel importante, con pocos clics pagas el recibo de la luz, alguna compra en internet o disfrutas de tu película favorita. La facilidad con la que se hacen estos pagos y cómo lo usamos en la vida diaria ha hecho que las empresas del sector financiero hablen cada vez más de interoperabilidad.\\n¿Interoperabilidad? ¿Eso qué es?'),\n",
              " Document(metadata={'source': '/content/bre-b.txt'}, page_content='La interoperabilidad, en pocas palabras, es poder mover tu plata sin importar el banco en el que estés o cuál tenga la persona que la reciba.\\xa0Tú haces pagos interoperables con una transferencia a un familiar que tiene una cuenta en otra entidad o en el momento en el que usas plataformas como PSE para tus compras por internet. Pero esta palabra va mucho más allá, también hace referencia a que este proceso sea fácil, sin complicaciones y en minutos.\\nDesde Bancolombia hemos logrado adaptarnos a los cambios y estar al frente de las tendencias, pues sabemos que cada innovación y nueva propuesta en la industria financiera ayuda a que nuestros clientes logren el bienestar que merecen.\\n¿De qué me sirven la interoperabilidad y los sistemas de pago inmediatos?'),\n",
              " Document(metadata={'source': '/content/bre-b.txt'}, page_content='Entendemos que te hagas estas preguntas y, aunque no lo creas, tienen más relación contigo de lo que te imaginas. A partir del 2025 empezará a funcionar, por determinación del Banco de la República,\\xa0el Sistema de Pagos Inmediatos e Interoperables que se llamará Bre-B. Desde este año empezarás a escuchar mucho sobre llaves y verás que los bancos contaremos con un nuevo sello con el que podrás identificarlo.'),\n",
              " Document(metadata={'source': '/content/bre-b.txt'}, page_content='Bre-B tiene el objetivo de disminuir el uso del efectivo, impulsar mucho más la inclusión financiera y facilitar las transacciones y pagos entre diversas entidades mediante el uso de llaves.\\xa0Las llaves serán un identificador para tus medios de pago (cuentas bancarias o depósitos de bajo monto),\\xa0pero para evitar errores y que sea muy fácil recordarlo, podrás escoger diferentes tipos de llaves a partir de datos que usas en tu día a día: número de celular, cédula de ciudadanía, correo electrónico o una opción alfanumérica, es decir, una combinación de letras y números única que te asignará tu banco.'),\n",
              " Document(metadata={'source': '/content/bre-b.txt'}, page_content='Con Bre-B podrás pasar plata en cualquier momento del día sin importar si es fin de semana o si haces una transacción a las tres de la mañana. ¿Y esto sí es un cambio? Claro que sí, la promesa de valor es que las transacciones duren alrededor de 20 segundos desde que inicia la operación hasta que la plata llega a la cuenta de la otra entidad, ya no tendrás que esperar horas o que no sea festivo.\\xa0\\nDe acuerdo con Ana María Prieto, directora del departamento de Sistemas de Pago del Banco de la República, la primera fase será de inscripción, es decir, deberás registrar las llaves que más te sirven para enviar y recibir plata dependiendo la entidad donde tengas algún medio de pago. Luego de esta etapa, comenzará la operación total del sistema.\\xa0\\xa0\\n¿Qué viene después con el sistema de pagos inmediatos?'),\n",
              " Document(metadata={'source': '/content/bre-b.txt'}, page_content='El sistema de pagos inmediatos abre una amplia gama de posibilidades para todos los colombianos. Se trata de un ecosistema óptimo, rápido y seguro con el que podrás manejar tu plata y superar todas esas barreras que a veces existen entre entidades financieras. Pronto verás que es muy fácil, en pocos pasos y muy útil para las finanzas de tu vida diaria.\\nEn Bancolombia estamos siempre a la vanguardia con todas estas innovaciones que transforman el sistema financiero y que brindan oportunidades a nuestros clientes para alcanzar el bienestar, mejorar su relación con la plata y lograr sus objetivos. Por eso, seguiremos construyendo un ecosistema de pagos eficiente a través de soluciones únicas: Wompi, Nequi, Bancolombia A la mano y mucho más.'),\n",
              " Document(metadata={'source': '/content/bre-b.txt'}, page_content='¿Qué son las Llaves\\nde Bre-B?\\nEs el identificador que el cliente debe registrar en la entidad de su preferencia y se vincula con su medio de pago (cuenta o depósito electrónico).\\n\\nLa Llave es el dato que deberá compartirle a la persona que le va a enviar dinero a usted.\\nLas opciones de Llave las ofrece la entidad según la información que el usuario tenga registrada.\\n\\n¿Cómo puedo crear una Llave?\\nA través de los canales digitales de la entidad donde tenga su cuenta o depósito electrónico.\\n\\nSe podrá escoger entre cuatro tipos de llaves:\\n1. Número de documento de identidad\\n2. Número de celular\\n3. Identificador alfanumérico generado aleatoriamente por su entidad\\n4. Correo electrónico\\n\\nAdemás,\\n5. Los comercios podrán elegir el código de comercio asignado por la entidad donde tienen su medio de pago\\n\\nUna llave solo se puede asociar a una cuenta o deposito, sin embargo, una cuenta o deposito puede estar asociada a varias llaves.'),\n",
              " Document(metadata={'source': '/content/bre-b.txt'}, page_content='¿Qué tipos de pagos y transferencias se pueden hacer con Bre-B?\\nSe pueden hacer pagos y transferencias de persona a persona o de persona a comercio.\\n\\nPara enviar (pagar o transferir de manera inmediata) necesita:\\n\\n\\nTener una cuenta o depósito en alguna entidad desde donde saldrá el dinero.\\nConocer la Llave de la persona o (comercio) que recibirá el dinero o escanear el código QR.\\nSaber el monto que va a pagar o transferir de manera inmediata.\\nPara recibir\\ndebe vincular una Llave a la cuenta o depósito donde desee que llegue el dinero.\\nNo es necesario tener una Llave para enviar dinero, pero sí es necesario para recibir\\n¿Cuánto dinero podré transferir por Bre-B?\\nPuede hacer desde pagos cotidianos de bajo monto hasta transferencias por\\n\\n11.552.000 pesos*,\\nsu entidad puede establecer un monto menor, limitar el número de transacciones diarias o establecer otros criterios por motivos de seguridad.'),\n",
              " Document(metadata={'source': '/content/bre-b.txt'}, page_content='*El valor máximo por transacción en Bre-B es de 1.000 unidades de valor básico (UVB) del año en curso. Para el 2025 es de COP 11.552.\\n\\nCódigo QR\\nBre-B también tiene códigos QR.\\nSolo escanee el código QR para iniciar el pago o transferencia.\\n\\n\\n*Los comercios pueden hacer uso de los códigos QR desde el inicio de operación de Bre-B y las personas naturales a partir del primer semestre de 2026.\\n\\n¿Qué es Bre-B?\\nEs el nuevo sistema de pagos inmediatos interoperado de Colombia que permitirá hacer pagos y transferencias al instante, sin importar la entidad donde tenga su cuenta o depósito electrónico.\\n\\n\\nIdentificará la nueva forma de hacer pagos y transferencias inmediatas de forma sencilla, sin importar la hora o el día, inclusive si es fin de semana o festivo.\\n\\n\\n\\n¿Dónde se encontrará?\\nEn los canales digitales de la entidad donde tenga su cuenta o depósito electrónico.'),\n",
              " Document(metadata={'source': '/content/bre-b.txt'}, page_content='¿Quiénes podrán usarlo?\\nCualquier persona o comercio a través de los canales digitales donde tenga su cuenta o depósito electrónico.\\n\\n\\n\\n¿Cuándo estará disponible?\\nDesde el segundo semestre de 2025.\\n\\n \\n¿Qué beneficios tendrá Bre-B?\\nSolo con la Llave o leyendo un código QR y el monto, podrá realizar un pago o transferencia.\\nPermite hacer pagos o transferencias entre distintas entidades.\\n¡El dinero llega en segundos\\nal destinatario!\\nPuede hacer transferencias a cualquier hora y cualquier día de la semana.\\n \\n¿Qué permite un sistema de pagos inmediatos?\\n\\nPermite realizar pagos y transferencias de manera inmediata sin importar la entidad financiera o cooperativa donde tenga su cuenta o depósito.\\n\\n\\nSignifica que permite realizar transferencias o pagos las 24 horas del día, los 7 días de la semana y los 365 días del año.\\n\\nCon un sistema de pagos inmediatos interoperable podrá enviar y recibir dinero al instante, sin importar la entidad donde tenga su cuenta o depósito.')]"
            ]
          },
          "execution_count": 5,
          "metadata": {},
          "output_type": "execute_result"
        }
      ],
      "source": [
        "text_splitter = RecursiveCharacterTextSplitter(chunk_size=1000, chunk_overlap=0)\n",
        "texts = text_splitter.split_documents(documents)\n",
        "texts"
      ]
    },
    {
      "cell_type": "markdown",
      "metadata": {
        "id": "4OpsWfUifad1"
      },
      "source": [
        "### 3. Generación de embeddings y almacenamiento en un vector store."
      ]
    },
    {
      "cell_type": "code",
      "execution_count": 6,
      "metadata": {
        "colab": {
          "base_uri": "https://localhost:8080/"
        },
        "id": "0ylIQhZpfMx0",
        "outputId": "ddf07db6-7084-45fc-9bab-e117769e5a8a"
      },
      "outputs": [
        {
          "name": "stderr",
          "output_type": "stream",
          "text": [
            "/tmp/ipython-input-6-2665919207.py:2: LangChainDeprecationWarning: The class `HuggingFaceEmbeddings` was deprecated in LangChain 0.2.2 and will be removed in 1.0. An updated version of the class exists in the :class:`~langchain-huggingface package and should be used instead. To use it run `pip install -U :class:`~langchain-huggingface` and import as `from :class:`~langchain_huggingface import HuggingFaceEmbeddings``.\n",
            "  embedding = HuggingFaceEmbeddings(\n",
            "/usr/local/lib/python3.11/dist-packages/huggingface_hub/utils/_auth.py:94: UserWarning: \n",
            "The secret `HF_TOKEN` does not exist in your Colab secrets.\n",
            "To authenticate with the Hugging Face Hub, create a token in your settings tab (https://huggingface.co/settings/tokens), set it as secret in your Google Colab and restart your session.\n",
            "You will be able to reuse this secret in all of your notebooks.\n",
            "Please note that authentication is recommended but still optional to access public models or datasets.\n",
            "  warnings.warn(\n"
          ]
        }
      ],
      "source": [
        "from langchain.embeddings import HuggingFaceEmbeddings\n",
        "embedding = HuggingFaceEmbeddings(\n",
        "    model_name=\"sentence-transformers/all-MiniLM-L6-v2\",\n",
        ")"
      ]
    },
    {
      "cell_type": "markdown",
      "metadata": {
        "id": "ApoFab7qf0YA"
      },
      "source": [
        "### vectorizar texto"
      ]
    },
    {
      "cell_type": "code",
      "execution_count": 7,
      "metadata": {
        "colab": {
          "base_uri": "https://localhost:8080/"
        },
        "id": "M1ifAY-VflPy",
        "outputId": "a85415b0-88bc-449a-9264-7c4eb1512965"
      },
      "outputs": [
        {
          "data": {
            "text/plain": [
              "<langchain_community.vectorstores.chroma.Chroma at 0x7c31e2d9f150>"
            ]
          },
          "execution_count": 7,
          "metadata": {},
          "output_type": "execute_result"
        }
      ],
      "source": [
        "vectordb = Chroma.from_documents(texts, embedding)\n",
        "vectordb\n"
      ]
    },
    {
      "cell_type": "markdown",
      "metadata": {
        "id": "M1F-id_AgHYw"
      },
      "source": [
        "# Realizar una búsqueda simple en el documento por similitud"
      ]
    },
    {
      "cell_type": "code",
      "execution_count": 8,
      "metadata": {
        "colab": {
          "base_uri": "https://localhost:8080/"
        },
        "id": "KG4LqlT6foaA",
        "outputId": "a434292e-0a93-4372-b5e6-385372eebcba"
      },
      "outputs": [
        {
          "name": "stdout",
          "output_type": "stream",
          "text": [
            "Document: Latinoamérica es una región que se ha caracterizado por tener un amplio uso del efectivo y porque muchas personas aún no tienen una cuenta en el banco o en billeteras digitales como Nequi, pero esta realidad ha cambiado y cada vez son más las posibilidades para que los pagos se hagan en minutos y sin complicaciones.\n",
            "Dentro de este contexto, las transacciones en línea también juegan un papel importante, con pocos clics pagas el recibo de la luz, alguna compra en internet o disfrutas de tu película favorita. La facilidad con la que se hacen estos pagos y cómo lo usamos en la vida diaria ha hecho que las empresas del sector financiero hablen cada vez más de interoperabilidad.\n",
            "¿Interoperabilidad? ¿Eso qué es?\n",
            "Document: Muchas veces, las transferencias entre cuentas bancarias pueden demorarse días y, si haces tus transacciones los fines de semana o festivos, deberás esperar hasta el lunes o martes para que sea efectiva. Así, que aprovecha las ventajas que te dará Bre-B para mover la plata a tu gusto.\n",
            "Document: Beneficios de la interoperabilidad\n",
            "La interoperabilidad en la prestación de servicios financieros es un paso importante hacia la inclusión financiera y la bancarización de personas que aún no tienen acceso al sistema financiero y, en algunos casos, desconocimiento sobre los productos y servicios que ofrecen las entidades de este sector.  \n",
            "Esto, también facilita que la gente se involucre con la economía formal y no elija opciones que no son confiables. Además, la interoperabilidad hace más sencillas tus transacciones diarias, como pagar a comercios o enviar dinero a amigos y familiares. \n",
            "La interoperabilidad aplica para las cuentas bancarias tradicionales y para los depósitos de bajo monto como Nequi, lo que significa que incluso si no tienes una cuenta bancaria tradicional, puedes beneficiarte de la facilidad y eficiencia que ofrece. \n",
            "Ventajas de la interoperabilidad financiera para las personas\n"
          ]
        }
      ],
      "source": [
        "# **Search**\n",
        "query = \"¿Qué es la interoperabilidad bancaria?\"\n",
        "results = vectordb.similarity_search(query, k=3)\n",
        "for result in results:\n",
        "    print(f\"Document: {result.page_content}\")"
      ]
    },
    {
      "cell_type": "markdown",
      "metadata": {
        "id": "qXS84r0rhy22"
      },
      "source": [
        "### 4. uso de un LLM."
      ]
    },
    {
      "cell_type": "code",
      "execution_count": 9,
      "metadata": {
        "colab": {
          "base_uri": "https://localhost:8080/"
        },
        "id": "tI_u9cFZg0HP",
        "outputId": "92536c42-8c4f-40c8-c438-0ccff9e16959"
      },
      "outputs": [
        {
          "name": "stdout",
          "output_type": "stream",
          "text": [
            "\n",
            "    _|    _|  _|    _|    _|_|_|    _|_|_|  _|_|_|  _|      _|    _|_|_|      _|_|_|_|    _|_|      _|_|_|  _|_|_|_|\n",
            "    _|    _|  _|    _|  _|        _|          _|    _|_|    _|  _|            _|        _|    _|  _|        _|\n",
            "    _|_|_|_|  _|    _|  _|  _|_|  _|  _|_|    _|    _|  _|  _|  _|  _|_|      _|_|_|    _|_|_|_|  _|        _|_|_|\n",
            "    _|    _|  _|    _|  _|    _|  _|    _|    _|    _|    _|_|  _|    _|      _|        _|    _|  _|        _|\n",
            "    _|    _|    _|_|      _|_|_|    _|_|_|  _|_|_|  _|      _|    _|_|_|      _|        _|    _|    _|_|_|  _|_|_|_|\n",
            "\n",
            "    A token is already saved on your machine. Run `huggingface-cli whoami` to get more information or `huggingface-cli logout` if you want to log out.\n",
            "    Setting a new token will erase the existing one.\n",
            "    To log in, `huggingface_hub` requires a token generated from https://huggingface.co/settings/tokens .\n",
            "Enter your token (input will not be visible): \n",
            "Add token as git credential? (Y/n) n\n",
            "Token is valid (permission: read).\n",
            "The token `python` has been saved to /root/.cache/huggingface/stored_tokens\n",
            "Your token has been saved to /root/.cache/huggingface/token\n",
            "Login successful.\n",
            "The current active token is: `python`\n"
          ]
        }
      ],
      "source": [
        "#Login to Hugginface\n",
        "!huggingface-cli login"
      ]
    },
    {
      "cell_type": "code",
      "execution_count": 10,
      "metadata": {
        "colab": {
          "base_uri": "https://localhost:8080/"
        },
        "id": "8Titt_7HiNKe",
        "outputId": "0819e33b-f303-440e-fc87-63511c82874c"
      },
      "outputs": [
        {
          "name": "stdout",
          "output_type": "stream",
          "text": [
            "dfperezg\n",
            "\u001b[1morgs: \u001b[0m The0rganization\n"
          ]
        }
      ],
      "source": [
        "!huggingface-cli whoami"
      ]
    },
    {
      "cell_type": "code",
      "execution_count": 11,
      "metadata": {
        "id": "5EHwLsQok92f"
      },
      "outputs": [],
      "source": [
        "import transformers\n",
        "from transformers import AutoTokenizer\n",
        "import torch\n",
        "from torch import cuda, bfloat16"
      ]
    },
    {
      "cell_type": "markdown",
      "metadata": {
        "id": "J5jqKMKYlFcB"
      },
      "source": [
        "### Se Establezca la configuración de cuantificación para un menor uso de memoria de la GPU"
      ]
    },
    {
      "cell_type": "code",
      "execution_count": 12,
      "metadata": {
        "id": "EUzCmY1nlBLJ"
      },
      "outputs": [],
      "source": [
        "bnb_config = transformers.BitsAndBytesConfig(\n",
        "    load_in_4bit=True,\n",
        "    bnb_4bit_quant_type='nf4',\n",
        "    bnb_4bit_use_double_quant=True,\n",
        "    bnb_4bit_compute_dtype=bfloat16\n",
        ")"
      ]
    },
    {
      "cell_type": "markdown",
      "metadata": {
        "id": "fYVdXv7DDGoZ"
      },
      "source": [
        "Carga de modelos Free LLM Huggis face"
      ]
    },
    {
      "cell_type": "code",
      "execution_count": 37,
      "metadata": {
        "colab": {
          "base_uri": "https://localhost:8080/"
        },
        "id": "2NhdvMH4p2ek",
        "outputId": "2dcf734e-744c-469d-f411-c1432f9c00c8"
      },
      "outputs": [
        {
          "name": "stderr",
          "output_type": "stream",
          "text": [
            "/usr/local/lib/python3.11/dist-packages/transformers/models/auto/tokenization_auto.py:935: FutureWarning: The `use_auth_token` argument is deprecated and will be removed in v5 of Transformers. Please use `token` instead.\n",
            "  warnings.warn(\n"
          ]
        }
      ],
      "source": [
        "model_id = \"facebook/bart-large-cnn\"#\"google-bert/bert-base-uncased\"\"facebook/bart-large-cnn\" posibles modelos free LLMs\n",
        "\n",
        "model_config = transformers.AutoConfig.from_pretrained(\n",
        "    model_id,\n",
        ")\n",
        "model = transformers.AutoModelForCausalLM.from_pretrained(\n",
        "    model_id,\n",
        "    trust_remote_code=True,\n",
        "    config=model_config,\n",
        "    quantization_config=bnb_config,\n",
        "    device_map='auto',\n",
        ")\n",
        "\n",
        "tokenizer = AutoTokenizer.from_pretrained(model_id, use_auth_token=True)"
      ]
    },
    {
      "cell_type": "markdown",
      "metadata": {
        "id": "oDxT330m-tUu"
      },
      "source": [
        "### 5. Prompt de contexto."
      ]
    },
    {
      "cell_type": "code",
      "execution_count": 38,
      "metadata": {
        "id": "AxZmDECx5QFP"
      },
      "outputs": [],
      "source": [
        "from langchain.llms import HuggingFacePipeline\n",
        "\n",
        "llm = HuggingFacePipeline(pipeline=pipeline)"
      ]
    },
    {
      "cell_type": "code",
      "execution_count": 16,
      "metadata": {
        "colab": {
          "base_uri": "https://localhost:8080/",
          "height": 142
        },
        "id": "_qNgD_uEAej9",
        "outputId": "0da0c022-b7af-48d3-dfb3-cb8e95a4cb16"
      },
      "outputs": [
        {
          "name": "stderr",
          "output_type": "stream",
          "text": [
            "/tmp/ipython-input-16-2625105724.py:1: LangChainDeprecationWarning: The method `BaseLLM.__call__` was deprecated in langchain-core 0.1.7 and will be removed in 1.0. Use :meth:`~invoke` instead.\n",
            "  llm(prompt=\"What is Sentiment analysis\")\n"
          ]
        },
        {
          "data": {
            "application/vnd.google.colaboratory.intrinsic+json": {
              "type": "string"
            },
            "text/plain": [
              "'What is Sentiment analysis overra SheoTheseraoo youo oneraorao dorara over downase over over do over over over down over over Take over over their over over only over over one over over at down over only down over at over over a one over at only over do one over down at over do at over at do over do just only over onlyke over do down over down/ over over is over atather over at/ down over Che over overashaterash over at atater over over Che at at overash Che down Che downater downateraterash Che over ataterater overater over Cheaterashaterker Cheater Che over'"
            ]
          },
          "execution_count": 16,
          "metadata": {},
          "output_type": "execute_result"
        }
      ],
      "source": [
        "llm(prompt=\"What is Sentiment analysis\")"
      ]
    },
    {
      "cell_type": "markdown",
      "metadata": {
        "id": "8GYWRrvy6jJ9"
      },
      "source": [
        "Inicializar cadena"
      ]
    },
    {
      "cell_type": "code",
      "execution_count": 39,
      "metadata": {
        "id": "-qD0DsC84pP5"
      },
      "outputs": [],
      "source": [
        "from langchain.chains import RetrievalQA"
      ]
    },
    {
      "cell_type": "markdown",
      "metadata": {
        "id": "aB7EU5N-67ha"
      },
      "source": [
        "### 6. Sección realizar preguntas al documento que responda con referencia a los chunks recuperado/utilizados."
      ]
    },
    {
      "cell_type": "code",
      "execution_count": 40,
      "metadata": {
        "id": "dFj6i6EH6oQb"
      },
      "outputs": [],
      "source": [
        "retriever = vectordb.as_retriever()\n",
        "\n",
        "retrieve = RetrievalQA.from_chain_type(\n",
        "    llm=llm,\n",
        "    chain_type=\"stuff\",\n",
        "    retriever=retriever,\n",
        "    verbose=True\n",
        ")"
      ]
    },
    {
      "cell_type": "code",
      "execution_count": 41,
      "metadata": {
        "id": "L37J3jN66vA9"
      },
      "outputs": [],
      "source": [
        "def rag(qa, query):\n",
        "    print(f\"Query: {query}\\n\")\n",
        "    result = qa.run(query)\n",
        "    print(\"\\nResult: \", result)"
      ]
    },
    {
      "cell_type": "code",
      "execution_count": 42,
      "metadata": {
        "colab": {
          "base_uri": "https://localhost:8080/",
          "height": 408
        },
        "id": "ixu9oLnH617k",
        "outputId": "b299fb5e-56b5-4d64-c646-9acb5683cfe9"
      },
      "outputs": [
        {
          "name": "stdout",
          "output_type": "stream",
          "text": [
            "Query: ¿Qué es la interoperabilidad bancaria?\n",
            "\n",
            "\n",
            "\n",
            "\u001b[1m> Entering new RetrievalQA chain...\u001b[0m\n"
          ]
        },
        {
          "ename": "TypeError",
          "evalue": "unhashable type: 'list'",
          "output_type": "error",
          "traceback": [
            "\u001b[0;31m---------------------------------------------------------------------------\u001b[0m",
            "\u001b[0;31mTypeError\u001b[0m                                 Traceback (most recent call last)",
            "\u001b[0;32m/tmp/ipython-input-42-1010130384.py\u001b[0m in \u001b[0;36m<cell line: 0>\u001b[0;34m()\u001b[0m\n\u001b[1;32m      1\u001b[0m \u001b[0mprompt\u001b[0m \u001b[0;34m=\u001b[0m \u001b[0;34m\"¿Qué es la interoperabilidad bancaria?\"\u001b[0m\u001b[0;34m\u001b[0m\u001b[0;34m\u001b[0m\u001b[0m\n\u001b[0;32m----> 2\u001b[0;31m \u001b[0mrag\u001b[0m\u001b[0;34m(\u001b[0m\u001b[0mretrieve\u001b[0m\u001b[0;34m,\u001b[0m \u001b[0mprompt\u001b[0m\u001b[0;34m)\u001b[0m\u001b[0;34m\u001b[0m\u001b[0;34m\u001b[0m\u001b[0m\n\u001b[0m",
            "\u001b[0;32m/tmp/ipython-input-41-647498373.py\u001b[0m in \u001b[0;36mrag\u001b[0;34m(qa, query)\u001b[0m\n\u001b[1;32m      1\u001b[0m \u001b[0;32mdef\u001b[0m \u001b[0mrag\u001b[0m\u001b[0;34m(\u001b[0m\u001b[0mqa\u001b[0m\u001b[0;34m,\u001b[0m \u001b[0mquery\u001b[0m\u001b[0;34m)\u001b[0m\u001b[0;34m:\u001b[0m\u001b[0;34m\u001b[0m\u001b[0;34m\u001b[0m\u001b[0m\n\u001b[1;32m      2\u001b[0m     \u001b[0mprint\u001b[0m\u001b[0;34m(\u001b[0m\u001b[0;34mf\"Query: {query}\\n\"\u001b[0m\u001b[0;34m)\u001b[0m\u001b[0;34m\u001b[0m\u001b[0;34m\u001b[0m\u001b[0m\n\u001b[0;32m----> 3\u001b[0;31m     \u001b[0mresult\u001b[0m \u001b[0;34m=\u001b[0m \u001b[0mqa\u001b[0m\u001b[0;34m.\u001b[0m\u001b[0mrun\u001b[0m\u001b[0;34m(\u001b[0m\u001b[0mquery\u001b[0m\u001b[0;34m)\u001b[0m\u001b[0;34m\u001b[0m\u001b[0;34m\u001b[0m\u001b[0m\n\u001b[0m\u001b[1;32m      4\u001b[0m     \u001b[0mprint\u001b[0m\u001b[0;34m(\u001b[0m\u001b[0;34m\"\\nResult: \"\u001b[0m\u001b[0;34m,\u001b[0m \u001b[0mresult\u001b[0m\u001b[0;34m)\u001b[0m\u001b[0;34m\u001b[0m\u001b[0;34m\u001b[0m\u001b[0m\n",
            "\u001b[0;32m/usr/local/lib/python3.11/dist-packages/langchain_core/_api/deprecation.py\u001b[0m in \u001b[0;36mwarning_emitting_wrapper\u001b[0;34m(*args, **kwargs)\u001b[0m\n\u001b[1;32m    187\u001b[0m                 \u001b[0mwarned\u001b[0m \u001b[0;34m=\u001b[0m \u001b[0;32mTrue\u001b[0m\u001b[0;34m\u001b[0m\u001b[0;34m\u001b[0m\u001b[0m\n\u001b[1;32m    188\u001b[0m                 \u001b[0memit_warning\u001b[0m\u001b[0;34m(\u001b[0m\u001b[0;34m)\u001b[0m\u001b[0;34m\u001b[0m\u001b[0;34m\u001b[0m\u001b[0m\n\u001b[0;32m--> 189\u001b[0;31m             \u001b[0;32mreturn\u001b[0m \u001b[0mwrapped\u001b[0m\u001b[0;34m(\u001b[0m\u001b[0;34m*\u001b[0m\u001b[0margs\u001b[0m\u001b[0;34m,\u001b[0m \u001b[0;34m**\u001b[0m\u001b[0mkwargs\u001b[0m\u001b[0;34m)\u001b[0m\u001b[0;34m\u001b[0m\u001b[0;34m\u001b[0m\u001b[0m\n\u001b[0m\u001b[1;32m    190\u001b[0m \u001b[0;34m\u001b[0m\u001b[0m\n\u001b[1;32m    191\u001b[0m         \u001b[0;32masync\u001b[0m \u001b[0;32mdef\u001b[0m \u001b[0mawarning_emitting_wrapper\u001b[0m\u001b[0;34m(\u001b[0m\u001b[0;34m*\u001b[0m\u001b[0margs\u001b[0m\u001b[0;34m:\u001b[0m \u001b[0mAny\u001b[0m\u001b[0;34m,\u001b[0m \u001b[0;34m**\u001b[0m\u001b[0mkwargs\u001b[0m\u001b[0;34m:\u001b[0m \u001b[0mAny\u001b[0m\u001b[0;34m)\u001b[0m \u001b[0;34m->\u001b[0m \u001b[0mAny\u001b[0m\u001b[0;34m:\u001b[0m\u001b[0;34m\u001b[0m\u001b[0;34m\u001b[0m\u001b[0m\n",
            "\u001b[0;32m/usr/local/lib/python3.11/dist-packages/langchain/chains/base.py\u001b[0m in \u001b[0;36mrun\u001b[0;34m(self, callbacks, tags, metadata, *args, **kwargs)\u001b[0m\n\u001b[1;32m    601\u001b[0m             \u001b[0;32mif\u001b[0m \u001b[0mlen\u001b[0m\u001b[0;34m(\u001b[0m\u001b[0margs\u001b[0m\u001b[0;34m)\u001b[0m \u001b[0;34m!=\u001b[0m \u001b[0;36m1\u001b[0m\u001b[0;34m:\u001b[0m\u001b[0;34m\u001b[0m\u001b[0;34m\u001b[0m\u001b[0m\n\u001b[1;32m    602\u001b[0m                 \u001b[0;32mraise\u001b[0m \u001b[0mValueError\u001b[0m\u001b[0;34m(\u001b[0m\u001b[0;34m\"`run` supports only one positional argument.\"\u001b[0m\u001b[0;34m)\u001b[0m\u001b[0;34m\u001b[0m\u001b[0;34m\u001b[0m\u001b[0m\n\u001b[0;32m--> 603\u001b[0;31m             return self(args[0], callbacks=callbacks, tags=tags, metadata=metadata)[\n\u001b[0m\u001b[1;32m    604\u001b[0m                 \u001b[0m_output_key\u001b[0m\u001b[0;34m\u001b[0m\u001b[0;34m\u001b[0m\u001b[0m\n\u001b[1;32m    605\u001b[0m             ]\n",
            "\u001b[0;32m/usr/local/lib/python3.11/dist-packages/langchain_core/_api/deprecation.py\u001b[0m in \u001b[0;36mwarning_emitting_wrapper\u001b[0;34m(*args, **kwargs)\u001b[0m\n\u001b[1;32m    187\u001b[0m                 \u001b[0mwarned\u001b[0m \u001b[0;34m=\u001b[0m \u001b[0;32mTrue\u001b[0m\u001b[0;34m\u001b[0m\u001b[0;34m\u001b[0m\u001b[0m\n\u001b[1;32m    188\u001b[0m                 \u001b[0memit_warning\u001b[0m\u001b[0;34m(\u001b[0m\u001b[0;34m)\u001b[0m\u001b[0;34m\u001b[0m\u001b[0;34m\u001b[0m\u001b[0m\n\u001b[0;32m--> 189\u001b[0;31m             \u001b[0;32mreturn\u001b[0m \u001b[0mwrapped\u001b[0m\u001b[0;34m(\u001b[0m\u001b[0;34m*\u001b[0m\u001b[0margs\u001b[0m\u001b[0;34m,\u001b[0m \u001b[0;34m**\u001b[0m\u001b[0mkwargs\u001b[0m\u001b[0;34m)\u001b[0m\u001b[0;34m\u001b[0m\u001b[0;34m\u001b[0m\u001b[0m\n\u001b[0m\u001b[1;32m    190\u001b[0m \u001b[0;34m\u001b[0m\u001b[0m\n\u001b[1;32m    191\u001b[0m         \u001b[0;32masync\u001b[0m \u001b[0;32mdef\u001b[0m \u001b[0mawarning_emitting_wrapper\u001b[0m\u001b[0;34m(\u001b[0m\u001b[0;34m*\u001b[0m\u001b[0margs\u001b[0m\u001b[0;34m:\u001b[0m \u001b[0mAny\u001b[0m\u001b[0;34m,\u001b[0m \u001b[0;34m**\u001b[0m\u001b[0mkwargs\u001b[0m\u001b[0;34m:\u001b[0m \u001b[0mAny\u001b[0m\u001b[0;34m)\u001b[0m \u001b[0;34m->\u001b[0m \u001b[0mAny\u001b[0m\u001b[0;34m:\u001b[0m\u001b[0;34m\u001b[0m\u001b[0;34m\u001b[0m\u001b[0m\n",
            "\u001b[0;32m/usr/local/lib/python3.11/dist-packages/langchain/chains/base.py\u001b[0m in \u001b[0;36m__call__\u001b[0;34m(self, inputs, return_only_outputs, callbacks, tags, metadata, run_name, include_run_info)\u001b[0m\n\u001b[1;32m    384\u001b[0m         }\n\u001b[1;32m    385\u001b[0m \u001b[0;34m\u001b[0m\u001b[0m\n\u001b[0;32m--> 386\u001b[0;31m         return self.invoke(\n\u001b[0m\u001b[1;32m    387\u001b[0m             \u001b[0minputs\u001b[0m\u001b[0;34m,\u001b[0m\u001b[0;34m\u001b[0m\u001b[0;34m\u001b[0m\u001b[0m\n\u001b[1;32m    388\u001b[0m             \u001b[0mcast\u001b[0m\u001b[0;34m(\u001b[0m\u001b[0mRunnableConfig\u001b[0m\u001b[0;34m,\u001b[0m \u001b[0;34m{\u001b[0m\u001b[0mk\u001b[0m\u001b[0;34m:\u001b[0m \u001b[0mv\u001b[0m \u001b[0;32mfor\u001b[0m \u001b[0mk\u001b[0m\u001b[0;34m,\u001b[0m \u001b[0mv\u001b[0m \u001b[0;32min\u001b[0m \u001b[0mconfig\u001b[0m\u001b[0;34m.\u001b[0m\u001b[0mitems\u001b[0m\u001b[0;34m(\u001b[0m\u001b[0;34m)\u001b[0m \u001b[0;32mif\u001b[0m \u001b[0mv\u001b[0m \u001b[0;32mis\u001b[0m \u001b[0;32mnot\u001b[0m \u001b[0;32mNone\u001b[0m\u001b[0;34m}\u001b[0m\u001b[0;34m)\u001b[0m\u001b[0;34m,\u001b[0m\u001b[0;34m\u001b[0m\u001b[0;34m\u001b[0m\u001b[0m\n",
            "\u001b[0;32m/usr/local/lib/python3.11/dist-packages/langchain/chains/base.py\u001b[0m in \u001b[0;36minvoke\u001b[0;34m(self, input, config, **kwargs)\u001b[0m\n\u001b[1;32m    165\u001b[0m         \u001b[0;32mexcept\u001b[0m \u001b[0mBaseException\u001b[0m \u001b[0;32mas\u001b[0m \u001b[0me\u001b[0m\u001b[0;34m:\u001b[0m\u001b[0;34m\u001b[0m\u001b[0;34m\u001b[0m\u001b[0m\n\u001b[1;32m    166\u001b[0m             \u001b[0mrun_manager\u001b[0m\u001b[0;34m.\u001b[0m\u001b[0mon_chain_error\u001b[0m\u001b[0;34m(\u001b[0m\u001b[0me\u001b[0m\u001b[0;34m)\u001b[0m\u001b[0;34m\u001b[0m\u001b[0;34m\u001b[0m\u001b[0m\n\u001b[0;32m--> 167\u001b[0;31m             \u001b[0;32mraise\u001b[0m \u001b[0me\u001b[0m\u001b[0;34m\u001b[0m\u001b[0;34m\u001b[0m\u001b[0m\n\u001b[0m\u001b[1;32m    168\u001b[0m         \u001b[0mrun_manager\u001b[0m\u001b[0;34m.\u001b[0m\u001b[0mon_chain_end\u001b[0m\u001b[0;34m(\u001b[0m\u001b[0moutputs\u001b[0m\u001b[0;34m)\u001b[0m\u001b[0;34m\u001b[0m\u001b[0;34m\u001b[0m\u001b[0m\n\u001b[1;32m    169\u001b[0m \u001b[0;34m\u001b[0m\u001b[0m\n",
            "\u001b[0;32m/usr/local/lib/python3.11/dist-packages/langchain/chains/base.py\u001b[0m in \u001b[0;36minvoke\u001b[0;34m(self, input, config, **kwargs)\u001b[0m\n\u001b[1;32m    155\u001b[0m             \u001b[0mself\u001b[0m\u001b[0;34m.\u001b[0m\u001b[0m_validate_inputs\u001b[0m\u001b[0;34m(\u001b[0m\u001b[0minputs\u001b[0m\u001b[0;34m)\u001b[0m\u001b[0;34m\u001b[0m\u001b[0;34m\u001b[0m\u001b[0m\n\u001b[1;32m    156\u001b[0m             outputs = (\n\u001b[0;32m--> 157\u001b[0;31m                 \u001b[0mself\u001b[0m\u001b[0;34m.\u001b[0m\u001b[0m_call\u001b[0m\u001b[0;34m(\u001b[0m\u001b[0minputs\u001b[0m\u001b[0;34m,\u001b[0m \u001b[0mrun_manager\u001b[0m\u001b[0;34m=\u001b[0m\u001b[0mrun_manager\u001b[0m\u001b[0;34m)\u001b[0m\u001b[0;34m\u001b[0m\u001b[0;34m\u001b[0m\u001b[0m\n\u001b[0m\u001b[1;32m    158\u001b[0m                 \u001b[0;32mif\u001b[0m \u001b[0mnew_arg_supported\u001b[0m\u001b[0;34m\u001b[0m\u001b[0;34m\u001b[0m\u001b[0m\n\u001b[1;32m    159\u001b[0m                 \u001b[0;32melse\u001b[0m \u001b[0mself\u001b[0m\u001b[0;34m.\u001b[0m\u001b[0m_call\u001b[0m\u001b[0;34m(\u001b[0m\u001b[0minputs\u001b[0m\u001b[0;34m)\u001b[0m\u001b[0;34m\u001b[0m\u001b[0;34m\u001b[0m\u001b[0m\n",
            "\u001b[0;32m/usr/local/lib/python3.11/dist-packages/langchain/chains/retrieval_qa/base.py\u001b[0m in \u001b[0;36m_call\u001b[0;34m(self, inputs, run_manager)\u001b[0m\n\u001b[1;32m    152\u001b[0m         \u001b[0;32melse\u001b[0m\u001b[0;34m:\u001b[0m\u001b[0;34m\u001b[0m\u001b[0;34m\u001b[0m\u001b[0m\n\u001b[1;32m    153\u001b[0m             \u001b[0mdocs\u001b[0m \u001b[0;34m=\u001b[0m \u001b[0mself\u001b[0m\u001b[0;34m.\u001b[0m\u001b[0m_get_docs\u001b[0m\u001b[0;34m(\u001b[0m\u001b[0mquestion\u001b[0m\u001b[0;34m)\u001b[0m  \u001b[0;31m# type: ignore[call-arg]\u001b[0m\u001b[0;34m\u001b[0m\u001b[0;34m\u001b[0m\u001b[0m\n\u001b[0;32m--> 154\u001b[0;31m         answer = self.combine_documents_chain.run(\n\u001b[0m\u001b[1;32m    155\u001b[0m             \u001b[0minput_documents\u001b[0m\u001b[0;34m=\u001b[0m\u001b[0mdocs\u001b[0m\u001b[0;34m,\u001b[0m \u001b[0mquestion\u001b[0m\u001b[0;34m=\u001b[0m\u001b[0mquestion\u001b[0m\u001b[0;34m,\u001b[0m \u001b[0mcallbacks\u001b[0m\u001b[0;34m=\u001b[0m\u001b[0m_run_manager\u001b[0m\u001b[0;34m.\u001b[0m\u001b[0mget_child\u001b[0m\u001b[0;34m(\u001b[0m\u001b[0;34m)\u001b[0m\u001b[0;34m\u001b[0m\u001b[0;34m\u001b[0m\u001b[0m\n\u001b[1;32m    156\u001b[0m         )\n",
            "\u001b[0;32m/usr/local/lib/python3.11/dist-packages/langchain_core/_api/deprecation.py\u001b[0m in \u001b[0;36mwarning_emitting_wrapper\u001b[0;34m(*args, **kwargs)\u001b[0m\n\u001b[1;32m    187\u001b[0m                 \u001b[0mwarned\u001b[0m \u001b[0;34m=\u001b[0m \u001b[0;32mTrue\u001b[0m\u001b[0;34m\u001b[0m\u001b[0;34m\u001b[0m\u001b[0m\n\u001b[1;32m    188\u001b[0m                 \u001b[0memit_warning\u001b[0m\u001b[0;34m(\u001b[0m\u001b[0;34m)\u001b[0m\u001b[0;34m\u001b[0m\u001b[0;34m\u001b[0m\u001b[0m\n\u001b[0;32m--> 189\u001b[0;31m             \u001b[0;32mreturn\u001b[0m \u001b[0mwrapped\u001b[0m\u001b[0;34m(\u001b[0m\u001b[0;34m*\u001b[0m\u001b[0margs\u001b[0m\u001b[0;34m,\u001b[0m \u001b[0;34m**\u001b[0m\u001b[0mkwargs\u001b[0m\u001b[0;34m)\u001b[0m\u001b[0;34m\u001b[0m\u001b[0;34m\u001b[0m\u001b[0m\n\u001b[0m\u001b[1;32m    190\u001b[0m \u001b[0;34m\u001b[0m\u001b[0m\n\u001b[1;32m    191\u001b[0m         \u001b[0;32masync\u001b[0m \u001b[0;32mdef\u001b[0m \u001b[0mawarning_emitting_wrapper\u001b[0m\u001b[0;34m(\u001b[0m\u001b[0;34m*\u001b[0m\u001b[0margs\u001b[0m\u001b[0;34m:\u001b[0m \u001b[0mAny\u001b[0m\u001b[0;34m,\u001b[0m \u001b[0;34m**\u001b[0m\u001b[0mkwargs\u001b[0m\u001b[0;34m:\u001b[0m \u001b[0mAny\u001b[0m\u001b[0;34m)\u001b[0m \u001b[0;34m->\u001b[0m \u001b[0mAny\u001b[0m\u001b[0;34m:\u001b[0m\u001b[0;34m\u001b[0m\u001b[0;34m\u001b[0m\u001b[0m\n",
            "\u001b[0;32m/usr/local/lib/python3.11/dist-packages/langchain/chains/base.py\u001b[0m in \u001b[0;36mrun\u001b[0;34m(self, callbacks, tags, metadata, *args, **kwargs)\u001b[0m\n\u001b[1;32m    606\u001b[0m \u001b[0;34m\u001b[0m\u001b[0m\n\u001b[1;32m    607\u001b[0m         \u001b[0;32mif\u001b[0m \u001b[0mkwargs\u001b[0m \u001b[0;32mand\u001b[0m \u001b[0;32mnot\u001b[0m \u001b[0margs\u001b[0m\u001b[0;34m:\u001b[0m\u001b[0;34m\u001b[0m\u001b[0;34m\u001b[0m\u001b[0m\n\u001b[0;32m--> 608\u001b[0;31m             return self(kwargs, callbacks=callbacks, tags=tags, metadata=metadata)[\n\u001b[0m\u001b[1;32m    609\u001b[0m                 \u001b[0m_output_key\u001b[0m\u001b[0;34m\u001b[0m\u001b[0;34m\u001b[0m\u001b[0m\n\u001b[1;32m    610\u001b[0m             ]\n",
            "\u001b[0;32m/usr/local/lib/python3.11/dist-packages/langchain_core/_api/deprecation.py\u001b[0m in \u001b[0;36mwarning_emitting_wrapper\u001b[0;34m(*args, **kwargs)\u001b[0m\n\u001b[1;32m    187\u001b[0m                 \u001b[0mwarned\u001b[0m \u001b[0;34m=\u001b[0m \u001b[0;32mTrue\u001b[0m\u001b[0;34m\u001b[0m\u001b[0;34m\u001b[0m\u001b[0m\n\u001b[1;32m    188\u001b[0m                 \u001b[0memit_warning\u001b[0m\u001b[0;34m(\u001b[0m\u001b[0;34m)\u001b[0m\u001b[0;34m\u001b[0m\u001b[0;34m\u001b[0m\u001b[0m\n\u001b[0;32m--> 189\u001b[0;31m             \u001b[0;32mreturn\u001b[0m \u001b[0mwrapped\u001b[0m\u001b[0;34m(\u001b[0m\u001b[0;34m*\u001b[0m\u001b[0margs\u001b[0m\u001b[0;34m,\u001b[0m \u001b[0;34m**\u001b[0m\u001b[0mkwargs\u001b[0m\u001b[0;34m)\u001b[0m\u001b[0;34m\u001b[0m\u001b[0;34m\u001b[0m\u001b[0m\n\u001b[0m\u001b[1;32m    190\u001b[0m \u001b[0;34m\u001b[0m\u001b[0m\n\u001b[1;32m    191\u001b[0m         \u001b[0;32masync\u001b[0m \u001b[0;32mdef\u001b[0m \u001b[0mawarning_emitting_wrapper\u001b[0m\u001b[0;34m(\u001b[0m\u001b[0;34m*\u001b[0m\u001b[0margs\u001b[0m\u001b[0;34m:\u001b[0m \u001b[0mAny\u001b[0m\u001b[0;34m,\u001b[0m \u001b[0;34m**\u001b[0m\u001b[0mkwargs\u001b[0m\u001b[0;34m:\u001b[0m \u001b[0mAny\u001b[0m\u001b[0;34m)\u001b[0m \u001b[0;34m->\u001b[0m \u001b[0mAny\u001b[0m\u001b[0;34m:\u001b[0m\u001b[0;34m\u001b[0m\u001b[0;34m\u001b[0m\u001b[0m\n",
            "\u001b[0;32m/usr/local/lib/python3.11/dist-packages/langchain/chains/base.py\u001b[0m in \u001b[0;36m__call__\u001b[0;34m(self, inputs, return_only_outputs, callbacks, tags, metadata, run_name, include_run_info)\u001b[0m\n\u001b[1;32m    384\u001b[0m         }\n\u001b[1;32m    385\u001b[0m \u001b[0;34m\u001b[0m\u001b[0m\n\u001b[0;32m--> 386\u001b[0;31m         return self.invoke(\n\u001b[0m\u001b[1;32m    387\u001b[0m             \u001b[0minputs\u001b[0m\u001b[0;34m,\u001b[0m\u001b[0;34m\u001b[0m\u001b[0;34m\u001b[0m\u001b[0m\n\u001b[1;32m    388\u001b[0m             \u001b[0mcast\u001b[0m\u001b[0;34m(\u001b[0m\u001b[0mRunnableConfig\u001b[0m\u001b[0;34m,\u001b[0m \u001b[0;34m{\u001b[0m\u001b[0mk\u001b[0m\u001b[0;34m:\u001b[0m \u001b[0mv\u001b[0m \u001b[0;32mfor\u001b[0m \u001b[0mk\u001b[0m\u001b[0;34m,\u001b[0m \u001b[0mv\u001b[0m \u001b[0;32min\u001b[0m \u001b[0mconfig\u001b[0m\u001b[0;34m.\u001b[0m\u001b[0mitems\u001b[0m\u001b[0;34m(\u001b[0m\u001b[0;34m)\u001b[0m \u001b[0;32mif\u001b[0m \u001b[0mv\u001b[0m \u001b[0;32mis\u001b[0m \u001b[0;32mnot\u001b[0m \u001b[0;32mNone\u001b[0m\u001b[0;34m}\u001b[0m\u001b[0;34m)\u001b[0m\u001b[0;34m,\u001b[0m\u001b[0;34m\u001b[0m\u001b[0;34m\u001b[0m\u001b[0m\n",
            "\u001b[0;32m/usr/local/lib/python3.11/dist-packages/langchain/chains/base.py\u001b[0m in \u001b[0;36minvoke\u001b[0;34m(self, input, config, **kwargs)\u001b[0m\n\u001b[1;32m    165\u001b[0m         \u001b[0;32mexcept\u001b[0m \u001b[0mBaseException\u001b[0m \u001b[0;32mas\u001b[0m \u001b[0me\u001b[0m\u001b[0;34m:\u001b[0m\u001b[0;34m\u001b[0m\u001b[0;34m\u001b[0m\u001b[0m\n\u001b[1;32m    166\u001b[0m             \u001b[0mrun_manager\u001b[0m\u001b[0;34m.\u001b[0m\u001b[0mon_chain_error\u001b[0m\u001b[0;34m(\u001b[0m\u001b[0me\u001b[0m\u001b[0;34m)\u001b[0m\u001b[0;34m\u001b[0m\u001b[0;34m\u001b[0m\u001b[0m\n\u001b[0;32m--> 167\u001b[0;31m             \u001b[0;32mraise\u001b[0m \u001b[0me\u001b[0m\u001b[0;34m\u001b[0m\u001b[0;34m\u001b[0m\u001b[0m\n\u001b[0m\u001b[1;32m    168\u001b[0m         \u001b[0mrun_manager\u001b[0m\u001b[0;34m.\u001b[0m\u001b[0mon_chain_end\u001b[0m\u001b[0;34m(\u001b[0m\u001b[0moutputs\u001b[0m\u001b[0;34m)\u001b[0m\u001b[0;34m\u001b[0m\u001b[0;34m\u001b[0m\u001b[0m\n\u001b[1;32m    169\u001b[0m \u001b[0;34m\u001b[0m\u001b[0m\n",
            "\u001b[0;32m/usr/local/lib/python3.11/dist-packages/langchain/chains/base.py\u001b[0m in \u001b[0;36minvoke\u001b[0;34m(self, input, config, **kwargs)\u001b[0m\n\u001b[1;32m    155\u001b[0m             \u001b[0mself\u001b[0m\u001b[0;34m.\u001b[0m\u001b[0m_validate_inputs\u001b[0m\u001b[0;34m(\u001b[0m\u001b[0minputs\u001b[0m\u001b[0;34m)\u001b[0m\u001b[0;34m\u001b[0m\u001b[0;34m\u001b[0m\u001b[0m\n\u001b[1;32m    156\u001b[0m             outputs = (\n\u001b[0;32m--> 157\u001b[0;31m                 \u001b[0mself\u001b[0m\u001b[0;34m.\u001b[0m\u001b[0m_call\u001b[0m\u001b[0;34m(\u001b[0m\u001b[0minputs\u001b[0m\u001b[0;34m,\u001b[0m \u001b[0mrun_manager\u001b[0m\u001b[0;34m=\u001b[0m\u001b[0mrun_manager\u001b[0m\u001b[0;34m)\u001b[0m\u001b[0;34m\u001b[0m\u001b[0;34m\u001b[0m\u001b[0m\n\u001b[0m\u001b[1;32m    158\u001b[0m                 \u001b[0;32mif\u001b[0m \u001b[0mnew_arg_supported\u001b[0m\u001b[0;34m\u001b[0m\u001b[0;34m\u001b[0m\u001b[0m\n\u001b[1;32m    159\u001b[0m                 \u001b[0;32melse\u001b[0m \u001b[0mself\u001b[0m\u001b[0;34m.\u001b[0m\u001b[0m_call\u001b[0m\u001b[0;34m(\u001b[0m\u001b[0minputs\u001b[0m\u001b[0;34m)\u001b[0m\u001b[0;34m\u001b[0m\u001b[0;34m\u001b[0m\u001b[0m\n",
            "\u001b[0;32m/usr/local/lib/python3.11/dist-packages/langchain/chains/combine_documents/base.py\u001b[0m in \u001b[0;36m_call\u001b[0;34m(self, inputs, run_manager)\u001b[0m\n\u001b[1;32m    136\u001b[0m         \u001b[0;31m# Other keys are assumed to be needed for LLM prediction\u001b[0m\u001b[0;34m\u001b[0m\u001b[0;34m\u001b[0m\u001b[0m\n\u001b[1;32m    137\u001b[0m         \u001b[0mother_keys\u001b[0m \u001b[0;34m=\u001b[0m \u001b[0;34m{\u001b[0m\u001b[0mk\u001b[0m\u001b[0;34m:\u001b[0m \u001b[0mv\u001b[0m \u001b[0;32mfor\u001b[0m \u001b[0mk\u001b[0m\u001b[0;34m,\u001b[0m \u001b[0mv\u001b[0m \u001b[0;32min\u001b[0m \u001b[0minputs\u001b[0m\u001b[0;34m.\u001b[0m\u001b[0mitems\u001b[0m\u001b[0;34m(\u001b[0m\u001b[0;34m)\u001b[0m \u001b[0;32mif\u001b[0m \u001b[0mk\u001b[0m \u001b[0;34m!=\u001b[0m \u001b[0mself\u001b[0m\u001b[0;34m.\u001b[0m\u001b[0minput_key\u001b[0m\u001b[0;34m}\u001b[0m\u001b[0;34m\u001b[0m\u001b[0;34m\u001b[0m\u001b[0m\n\u001b[0;32m--> 138\u001b[0;31m         output, extra_return_dict = self.combine_docs(\n\u001b[0m\u001b[1;32m    139\u001b[0m             \u001b[0mdocs\u001b[0m\u001b[0;34m,\u001b[0m \u001b[0mcallbacks\u001b[0m\u001b[0;34m=\u001b[0m\u001b[0m_run_manager\u001b[0m\u001b[0;34m.\u001b[0m\u001b[0mget_child\u001b[0m\u001b[0;34m(\u001b[0m\u001b[0;34m)\u001b[0m\u001b[0;34m,\u001b[0m \u001b[0;34m**\u001b[0m\u001b[0mother_keys\u001b[0m\u001b[0;34m\u001b[0m\u001b[0;34m\u001b[0m\u001b[0m\n\u001b[1;32m    140\u001b[0m         )\n",
            "\u001b[0;32m/usr/local/lib/python3.11/dist-packages/langchain/chains/combine_documents/stuff.py\u001b[0m in \u001b[0;36mcombine_docs\u001b[0;34m(self, docs, callbacks, **kwargs)\u001b[0m\n\u001b[1;32m    257\u001b[0m         \u001b[0minputs\u001b[0m \u001b[0;34m=\u001b[0m \u001b[0mself\u001b[0m\u001b[0;34m.\u001b[0m\u001b[0m_get_inputs\u001b[0m\u001b[0;34m(\u001b[0m\u001b[0mdocs\u001b[0m\u001b[0;34m,\u001b[0m \u001b[0;34m**\u001b[0m\u001b[0mkwargs\u001b[0m\u001b[0;34m)\u001b[0m\u001b[0;34m\u001b[0m\u001b[0;34m\u001b[0m\u001b[0m\n\u001b[1;32m    258\u001b[0m         \u001b[0;31m# Call predict on the LLM.\u001b[0m\u001b[0;34m\u001b[0m\u001b[0;34m\u001b[0m\u001b[0m\n\u001b[0;32m--> 259\u001b[0;31m         \u001b[0;32mreturn\u001b[0m \u001b[0mself\u001b[0m\u001b[0;34m.\u001b[0m\u001b[0mllm_chain\u001b[0m\u001b[0;34m.\u001b[0m\u001b[0mpredict\u001b[0m\u001b[0;34m(\u001b[0m\u001b[0mcallbacks\u001b[0m\u001b[0;34m=\u001b[0m\u001b[0mcallbacks\u001b[0m\u001b[0;34m,\u001b[0m \u001b[0;34m**\u001b[0m\u001b[0minputs\u001b[0m\u001b[0;34m)\u001b[0m\u001b[0;34m,\u001b[0m \u001b[0;34m{\u001b[0m\u001b[0;34m}\u001b[0m\u001b[0;34m\u001b[0m\u001b[0;34m\u001b[0m\u001b[0m\n\u001b[0m\u001b[1;32m    260\u001b[0m \u001b[0;34m\u001b[0m\u001b[0m\n\u001b[1;32m    261\u001b[0m     async def acombine_docs(\n",
            "\u001b[0;32m/usr/local/lib/python3.11/dist-packages/langchain/chains/llm.py\u001b[0m in \u001b[0;36mpredict\u001b[0;34m(self, callbacks, **kwargs)\u001b[0m\n\u001b[1;32m    317\u001b[0m                 \u001b[0mcompletion\u001b[0m \u001b[0;34m=\u001b[0m \u001b[0mllm\u001b[0m\u001b[0;34m.\u001b[0m\u001b[0mpredict\u001b[0m\u001b[0;34m(\u001b[0m\u001b[0madjective\u001b[0m\u001b[0;34m=\u001b[0m\u001b[0;34m\"funny\"\u001b[0m\u001b[0;34m)\u001b[0m\u001b[0;34m\u001b[0m\u001b[0;34m\u001b[0m\u001b[0m\n\u001b[1;32m    318\u001b[0m         \"\"\"\n\u001b[0;32m--> 319\u001b[0;31m         \u001b[0;32mreturn\u001b[0m \u001b[0mself\u001b[0m\u001b[0;34m(\u001b[0m\u001b[0mkwargs\u001b[0m\u001b[0;34m,\u001b[0m \u001b[0mcallbacks\u001b[0m\u001b[0;34m=\u001b[0m\u001b[0mcallbacks\u001b[0m\u001b[0;34m)\u001b[0m\u001b[0;34m[\u001b[0m\u001b[0mself\u001b[0m\u001b[0;34m.\u001b[0m\u001b[0moutput_key\u001b[0m\u001b[0;34m]\u001b[0m\u001b[0;34m\u001b[0m\u001b[0;34m\u001b[0m\u001b[0m\n\u001b[0m\u001b[1;32m    320\u001b[0m \u001b[0;34m\u001b[0m\u001b[0m\n\u001b[1;32m    321\u001b[0m     \u001b[0;32masync\u001b[0m \u001b[0;32mdef\u001b[0m \u001b[0mapredict\u001b[0m\u001b[0;34m(\u001b[0m\u001b[0mself\u001b[0m\u001b[0;34m,\u001b[0m \u001b[0mcallbacks\u001b[0m\u001b[0;34m:\u001b[0m \u001b[0mCallbacks\u001b[0m \u001b[0;34m=\u001b[0m \u001b[0;32mNone\u001b[0m\u001b[0;34m,\u001b[0m \u001b[0;34m**\u001b[0m\u001b[0mkwargs\u001b[0m\u001b[0;34m:\u001b[0m \u001b[0mAny\u001b[0m\u001b[0;34m)\u001b[0m \u001b[0;34m->\u001b[0m \u001b[0mstr\u001b[0m\u001b[0;34m:\u001b[0m\u001b[0;34m\u001b[0m\u001b[0;34m\u001b[0m\u001b[0m\n",
            "\u001b[0;32m/usr/local/lib/python3.11/dist-packages/langchain_core/_api/deprecation.py\u001b[0m in \u001b[0;36mwarning_emitting_wrapper\u001b[0;34m(*args, **kwargs)\u001b[0m\n\u001b[1;32m    187\u001b[0m                 \u001b[0mwarned\u001b[0m \u001b[0;34m=\u001b[0m \u001b[0;32mTrue\u001b[0m\u001b[0;34m\u001b[0m\u001b[0;34m\u001b[0m\u001b[0m\n\u001b[1;32m    188\u001b[0m                 \u001b[0memit_warning\u001b[0m\u001b[0;34m(\u001b[0m\u001b[0;34m)\u001b[0m\u001b[0;34m\u001b[0m\u001b[0;34m\u001b[0m\u001b[0m\n\u001b[0;32m--> 189\u001b[0;31m             \u001b[0;32mreturn\u001b[0m \u001b[0mwrapped\u001b[0m\u001b[0;34m(\u001b[0m\u001b[0;34m*\u001b[0m\u001b[0margs\u001b[0m\u001b[0;34m,\u001b[0m \u001b[0;34m**\u001b[0m\u001b[0mkwargs\u001b[0m\u001b[0;34m)\u001b[0m\u001b[0;34m\u001b[0m\u001b[0;34m\u001b[0m\u001b[0m\n\u001b[0m\u001b[1;32m    190\u001b[0m \u001b[0;34m\u001b[0m\u001b[0m\n\u001b[1;32m    191\u001b[0m         \u001b[0;32masync\u001b[0m \u001b[0;32mdef\u001b[0m \u001b[0mawarning_emitting_wrapper\u001b[0m\u001b[0;34m(\u001b[0m\u001b[0;34m*\u001b[0m\u001b[0margs\u001b[0m\u001b[0;34m:\u001b[0m \u001b[0mAny\u001b[0m\u001b[0;34m,\u001b[0m \u001b[0;34m**\u001b[0m\u001b[0mkwargs\u001b[0m\u001b[0;34m:\u001b[0m \u001b[0mAny\u001b[0m\u001b[0;34m)\u001b[0m \u001b[0;34m->\u001b[0m \u001b[0mAny\u001b[0m\u001b[0;34m:\u001b[0m\u001b[0;34m\u001b[0m\u001b[0;34m\u001b[0m\u001b[0m\n",
            "\u001b[0;32m/usr/local/lib/python3.11/dist-packages/langchain/chains/base.py\u001b[0m in \u001b[0;36m__call__\u001b[0;34m(self, inputs, return_only_outputs, callbacks, tags, metadata, run_name, include_run_info)\u001b[0m\n\u001b[1;32m    384\u001b[0m         }\n\u001b[1;32m    385\u001b[0m \u001b[0;34m\u001b[0m\u001b[0m\n\u001b[0;32m--> 386\u001b[0;31m         return self.invoke(\n\u001b[0m\u001b[1;32m    387\u001b[0m             \u001b[0minputs\u001b[0m\u001b[0;34m,\u001b[0m\u001b[0;34m\u001b[0m\u001b[0;34m\u001b[0m\u001b[0m\n\u001b[1;32m    388\u001b[0m             \u001b[0mcast\u001b[0m\u001b[0;34m(\u001b[0m\u001b[0mRunnableConfig\u001b[0m\u001b[0;34m,\u001b[0m \u001b[0;34m{\u001b[0m\u001b[0mk\u001b[0m\u001b[0;34m:\u001b[0m \u001b[0mv\u001b[0m \u001b[0;32mfor\u001b[0m \u001b[0mk\u001b[0m\u001b[0;34m,\u001b[0m \u001b[0mv\u001b[0m \u001b[0;32min\u001b[0m \u001b[0mconfig\u001b[0m\u001b[0;34m.\u001b[0m\u001b[0mitems\u001b[0m\u001b[0;34m(\u001b[0m\u001b[0;34m)\u001b[0m \u001b[0;32mif\u001b[0m \u001b[0mv\u001b[0m \u001b[0;32mis\u001b[0m \u001b[0;32mnot\u001b[0m \u001b[0;32mNone\u001b[0m\u001b[0;34m}\u001b[0m\u001b[0;34m)\u001b[0m\u001b[0;34m,\u001b[0m\u001b[0;34m\u001b[0m\u001b[0;34m\u001b[0m\u001b[0m\n",
            "\u001b[0;32m/usr/local/lib/python3.11/dist-packages/langchain/chains/base.py\u001b[0m in \u001b[0;36minvoke\u001b[0;34m(self, input, config, **kwargs)\u001b[0m\n\u001b[1;32m    165\u001b[0m         \u001b[0;32mexcept\u001b[0m \u001b[0mBaseException\u001b[0m \u001b[0;32mas\u001b[0m \u001b[0me\u001b[0m\u001b[0;34m:\u001b[0m\u001b[0;34m\u001b[0m\u001b[0;34m\u001b[0m\u001b[0m\n\u001b[1;32m    166\u001b[0m             \u001b[0mrun_manager\u001b[0m\u001b[0;34m.\u001b[0m\u001b[0mon_chain_error\u001b[0m\u001b[0;34m(\u001b[0m\u001b[0me\u001b[0m\u001b[0;34m)\u001b[0m\u001b[0;34m\u001b[0m\u001b[0;34m\u001b[0m\u001b[0m\n\u001b[0;32m--> 167\u001b[0;31m             \u001b[0;32mraise\u001b[0m \u001b[0me\u001b[0m\u001b[0;34m\u001b[0m\u001b[0;34m\u001b[0m\u001b[0m\n\u001b[0m\u001b[1;32m    168\u001b[0m         \u001b[0mrun_manager\u001b[0m\u001b[0;34m.\u001b[0m\u001b[0mon_chain_end\u001b[0m\u001b[0;34m(\u001b[0m\u001b[0moutputs\u001b[0m\u001b[0;34m)\u001b[0m\u001b[0;34m\u001b[0m\u001b[0;34m\u001b[0m\u001b[0m\n\u001b[1;32m    169\u001b[0m \u001b[0;34m\u001b[0m\u001b[0m\n",
            "\u001b[0;32m/usr/local/lib/python3.11/dist-packages/langchain/chains/base.py\u001b[0m in \u001b[0;36minvoke\u001b[0;34m(self, input, config, **kwargs)\u001b[0m\n\u001b[1;32m    155\u001b[0m             \u001b[0mself\u001b[0m\u001b[0;34m.\u001b[0m\u001b[0m_validate_inputs\u001b[0m\u001b[0;34m(\u001b[0m\u001b[0minputs\u001b[0m\u001b[0;34m)\u001b[0m\u001b[0;34m\u001b[0m\u001b[0;34m\u001b[0m\u001b[0m\n\u001b[1;32m    156\u001b[0m             outputs = (\n\u001b[0;32m--> 157\u001b[0;31m                 \u001b[0mself\u001b[0m\u001b[0;34m.\u001b[0m\u001b[0m_call\u001b[0m\u001b[0;34m(\u001b[0m\u001b[0minputs\u001b[0m\u001b[0;34m,\u001b[0m \u001b[0mrun_manager\u001b[0m\u001b[0;34m=\u001b[0m\u001b[0mrun_manager\u001b[0m\u001b[0;34m)\u001b[0m\u001b[0;34m\u001b[0m\u001b[0;34m\u001b[0m\u001b[0m\n\u001b[0m\u001b[1;32m    158\u001b[0m                 \u001b[0;32mif\u001b[0m \u001b[0mnew_arg_supported\u001b[0m\u001b[0;34m\u001b[0m\u001b[0;34m\u001b[0m\u001b[0m\n\u001b[1;32m    159\u001b[0m                 \u001b[0;32melse\u001b[0m \u001b[0mself\u001b[0m\u001b[0;34m.\u001b[0m\u001b[0m_call\u001b[0m\u001b[0;34m(\u001b[0m\u001b[0minputs\u001b[0m\u001b[0;34m)\u001b[0m\u001b[0;34m\u001b[0m\u001b[0;34m\u001b[0m\u001b[0m\n",
            "\u001b[0;32m/usr/local/lib/python3.11/dist-packages/langchain/chains/llm.py\u001b[0m in \u001b[0;36m_call\u001b[0;34m(self, inputs, run_manager)\u001b[0m\n\u001b[1;32m    125\u001b[0m         \u001b[0mrun_manager\u001b[0m\u001b[0;34m:\u001b[0m \u001b[0mOptional\u001b[0m\u001b[0;34m[\u001b[0m\u001b[0mCallbackManagerForChainRun\u001b[0m\u001b[0;34m]\u001b[0m \u001b[0;34m=\u001b[0m \u001b[0;32mNone\u001b[0m\u001b[0;34m,\u001b[0m\u001b[0;34m\u001b[0m\u001b[0;34m\u001b[0m\u001b[0m\n\u001b[1;32m    126\u001b[0m     ) -> dict[str, str]:\n\u001b[0;32m--> 127\u001b[0;31m         \u001b[0mresponse\u001b[0m \u001b[0;34m=\u001b[0m \u001b[0mself\u001b[0m\u001b[0;34m.\u001b[0m\u001b[0mgenerate\u001b[0m\u001b[0;34m(\u001b[0m\u001b[0;34m[\u001b[0m\u001b[0minputs\u001b[0m\u001b[0;34m]\u001b[0m\u001b[0;34m,\u001b[0m \u001b[0mrun_manager\u001b[0m\u001b[0;34m=\u001b[0m\u001b[0mrun_manager\u001b[0m\u001b[0;34m)\u001b[0m\u001b[0;34m\u001b[0m\u001b[0;34m\u001b[0m\u001b[0m\n\u001b[0m\u001b[1;32m    128\u001b[0m         \u001b[0;32mreturn\u001b[0m \u001b[0mself\u001b[0m\u001b[0;34m.\u001b[0m\u001b[0mcreate_outputs\u001b[0m\u001b[0;34m(\u001b[0m\u001b[0mresponse\u001b[0m\u001b[0;34m)\u001b[0m\u001b[0;34m[\u001b[0m\u001b[0;36m0\u001b[0m\u001b[0;34m]\u001b[0m\u001b[0;34m\u001b[0m\u001b[0;34m\u001b[0m\u001b[0m\n\u001b[1;32m    129\u001b[0m \u001b[0;34m\u001b[0m\u001b[0m\n",
            "\u001b[0;32m/usr/local/lib/python3.11/dist-packages/langchain/chains/llm.py\u001b[0m in \u001b[0;36mgenerate\u001b[0;34m(self, input_list, run_manager)\u001b[0m\n\u001b[1;32m    137\u001b[0m         \u001b[0mcallbacks\u001b[0m \u001b[0;34m=\u001b[0m \u001b[0mrun_manager\u001b[0m\u001b[0;34m.\u001b[0m\u001b[0mget_child\u001b[0m\u001b[0;34m(\u001b[0m\u001b[0;34m)\u001b[0m \u001b[0;32mif\u001b[0m \u001b[0mrun_manager\u001b[0m \u001b[0;32melse\u001b[0m \u001b[0;32mNone\u001b[0m\u001b[0;34m\u001b[0m\u001b[0;34m\u001b[0m\u001b[0m\n\u001b[1;32m    138\u001b[0m         \u001b[0;32mif\u001b[0m \u001b[0misinstance\u001b[0m\u001b[0;34m(\u001b[0m\u001b[0mself\u001b[0m\u001b[0;34m.\u001b[0m\u001b[0mllm\u001b[0m\u001b[0;34m,\u001b[0m \u001b[0mBaseLanguageModel\u001b[0m\u001b[0;34m)\u001b[0m\u001b[0;34m:\u001b[0m\u001b[0;34m\u001b[0m\u001b[0;34m\u001b[0m\u001b[0m\n\u001b[0;32m--> 139\u001b[0;31m             return self.llm.generate_prompt(\n\u001b[0m\u001b[1;32m    140\u001b[0m                 \u001b[0mprompts\u001b[0m\u001b[0;34m,\u001b[0m\u001b[0;34m\u001b[0m\u001b[0;34m\u001b[0m\u001b[0m\n\u001b[1;32m    141\u001b[0m                 \u001b[0mstop\u001b[0m\u001b[0;34m,\u001b[0m\u001b[0;34m\u001b[0m\u001b[0;34m\u001b[0m\u001b[0m\n",
            "\u001b[0;32m/usr/local/lib/python3.11/dist-packages/langchain_core/language_models/llms.py\u001b[0m in \u001b[0;36mgenerate_prompt\u001b[0;34m(self, prompts, stop, callbacks, **kwargs)\u001b[0m\n\u001b[1;32m    764\u001b[0m     ) -> LLMResult:\n\u001b[1;32m    765\u001b[0m         \u001b[0mprompt_strings\u001b[0m \u001b[0;34m=\u001b[0m \u001b[0;34m[\u001b[0m\u001b[0mp\u001b[0m\u001b[0;34m.\u001b[0m\u001b[0mto_string\u001b[0m\u001b[0;34m(\u001b[0m\u001b[0;34m)\u001b[0m \u001b[0;32mfor\u001b[0m \u001b[0mp\u001b[0m \u001b[0;32min\u001b[0m \u001b[0mprompts\u001b[0m\u001b[0;34m]\u001b[0m\u001b[0;34m\u001b[0m\u001b[0;34m\u001b[0m\u001b[0m\n\u001b[0;32m--> 766\u001b[0;31m         \u001b[0;32mreturn\u001b[0m \u001b[0mself\u001b[0m\u001b[0;34m.\u001b[0m\u001b[0mgenerate\u001b[0m\u001b[0;34m(\u001b[0m\u001b[0mprompt_strings\u001b[0m\u001b[0;34m,\u001b[0m \u001b[0mstop\u001b[0m\u001b[0;34m=\u001b[0m\u001b[0mstop\u001b[0m\u001b[0;34m,\u001b[0m \u001b[0mcallbacks\u001b[0m\u001b[0;34m=\u001b[0m\u001b[0mcallbacks\u001b[0m\u001b[0;34m,\u001b[0m \u001b[0;34m**\u001b[0m\u001b[0mkwargs\u001b[0m\u001b[0;34m)\u001b[0m\u001b[0;34m\u001b[0m\u001b[0;34m\u001b[0m\u001b[0m\n\u001b[0m\u001b[1;32m    767\u001b[0m \u001b[0;34m\u001b[0m\u001b[0m\n\u001b[1;32m    768\u001b[0m     \u001b[0;34m@\u001b[0m\u001b[0moverride\u001b[0m\u001b[0;34m\u001b[0m\u001b[0;34m\u001b[0m\u001b[0m\n",
            "\u001b[0;32m/usr/local/lib/python3.11/dist-packages/langchain_core/language_models/llms.py\u001b[0m in \u001b[0;36mgenerate\u001b[0;34m(self, prompts, stop, callbacks, tags, metadata, run_name, run_id, **kwargs)\u001b[0m\n\u001b[1;32m    969\u001b[0m                 )\n\u001b[1;32m    970\u001b[0m             ]\n\u001b[0;32m--> 971\u001b[0;31m             return self._generate_helper(\n\u001b[0m\u001b[1;32m    972\u001b[0m                 \u001b[0mprompts\u001b[0m\u001b[0;34m,\u001b[0m\u001b[0;34m\u001b[0m\u001b[0;34m\u001b[0m\u001b[0m\n\u001b[1;32m    973\u001b[0m                 \u001b[0mstop\u001b[0m\u001b[0;34m,\u001b[0m\u001b[0;34m\u001b[0m\u001b[0;34m\u001b[0m\u001b[0m\n",
            "\u001b[0;32m/usr/local/lib/python3.11/dist-packages/langchain_core/language_models/llms.py\u001b[0m in \u001b[0;36m_generate_helper\u001b[0;34m(self, prompts, stop, run_managers, new_arg_supported, **kwargs)\u001b[0m\n\u001b[1;32m    790\u001b[0m         \u001b[0;32mtry\u001b[0m\u001b[0;34m:\u001b[0m\u001b[0;34m\u001b[0m\u001b[0;34m\u001b[0m\u001b[0m\n\u001b[1;32m    791\u001b[0m             output = (\n\u001b[0;32m--> 792\u001b[0;31m                 self._generate(\n\u001b[0m\u001b[1;32m    793\u001b[0m                     \u001b[0mprompts\u001b[0m\u001b[0;34m,\u001b[0m\u001b[0;34m\u001b[0m\u001b[0;34m\u001b[0m\u001b[0m\n\u001b[1;32m    794\u001b[0m                     \u001b[0mstop\u001b[0m\u001b[0;34m=\u001b[0m\u001b[0mstop\u001b[0m\u001b[0;34m,\u001b[0m\u001b[0;34m\u001b[0m\u001b[0;34m\u001b[0m\u001b[0m\n",
            "\u001b[0;32m/usr/local/lib/python3.11/dist-packages/langchain_community/llms/huggingface_pipeline.py\u001b[0m in \u001b[0;36m_generate\u001b[0;34m(self, prompts, stop, run_manager, **kwargs)\u001b[0m\n\u001b[1;32m    283\u001b[0m \u001b[0;34m\u001b[0m\u001b[0m\n\u001b[1;32m    284\u001b[0m             \u001b[0;31m# Process batch of prompts\u001b[0m\u001b[0;34m\u001b[0m\u001b[0;34m\u001b[0m\u001b[0m\n\u001b[0;32m--> 285\u001b[0;31m             responses = self.pipeline(\n\u001b[0m\u001b[1;32m    286\u001b[0m                 \u001b[0mbatch_prompts\u001b[0m\u001b[0;34m,\u001b[0m\u001b[0;34m\u001b[0m\u001b[0;34m\u001b[0m\u001b[0m\n\u001b[1;32m    287\u001b[0m                 \u001b[0;34m**\u001b[0m\u001b[0mpipeline_kwargs\u001b[0m\u001b[0;34m,\u001b[0m\u001b[0;34m\u001b[0m\u001b[0;34m\u001b[0m\u001b[0m\n",
            "\u001b[0;32m/usr/local/lib/python3.11/dist-packages/transformers/pipelines/__init__.py\u001b[0m in \u001b[0;36mpipeline\u001b[0;34m(task, model, config, tokenizer, feature_extractor, image_processor, processor, framework, revision, use_fast, token, device, device_map, torch_dtype, trust_remote_code, model_kwargs, pipeline_class, **kwargs)\u001b[0m\n\u001b[1;32m    955\u001b[0m \u001b[0;34m\u001b[0m\u001b[0m\n\u001b[1;32m    956\u001b[0m     \u001b[0;31m# Retrieve the task\u001b[0m\u001b[0;34m\u001b[0m\u001b[0;34m\u001b[0m\u001b[0m\n\u001b[0;32m--> 957\u001b[0;31m     \u001b[0;32mif\u001b[0m \u001b[0mtask\u001b[0m \u001b[0;32min\u001b[0m \u001b[0mcustom_tasks\u001b[0m\u001b[0;34m:\u001b[0m\u001b[0;34m\u001b[0m\u001b[0;34m\u001b[0m\u001b[0m\n\u001b[0m\u001b[1;32m    958\u001b[0m         \u001b[0mnormalized_task\u001b[0m \u001b[0;34m=\u001b[0m \u001b[0mtask\u001b[0m\u001b[0;34m\u001b[0m\u001b[0;34m\u001b[0m\u001b[0m\n\u001b[1;32m    959\u001b[0m         \u001b[0mtargeted_task\u001b[0m\u001b[0;34m,\u001b[0m \u001b[0mtask_options\u001b[0m \u001b[0;34m=\u001b[0m \u001b[0mclean_custom_task\u001b[0m\u001b[0;34m(\u001b[0m\u001b[0mcustom_tasks\u001b[0m\u001b[0;34m[\u001b[0m\u001b[0mtask\u001b[0m\u001b[0;34m]\u001b[0m\u001b[0;34m)\u001b[0m\u001b[0;34m\u001b[0m\u001b[0;34m\u001b[0m\u001b[0m\n",
            "\u001b[0;31mTypeError\u001b[0m: unhashable type: 'list'"
          ]
        }
      ],
      "source": [
        "prompt = \"¿Qué es la interoperabilidad bancaria?\"\n",
        "rag(retrieve, prompt)"
      ]
    },
    {
      "cell_type": "markdown",
      "metadata": {
        "id": "5YiPCwT5HNbA"
      },
      "source": [
        "Fin\n",
        "------------"
      ]
    }
  ],
  "metadata": {
    "colab": {
      "provenance": []
    },
    "kernelspec": {
      "display_name": "Python 3",
      "language": "python",
      "name": "python3"
    },
    "language_info": {
      "codemirror_mode": {
        "name": "ipython",
        "version": 3
      },
      "file_extension": ".py",
      "mimetype": "text/x-python",
      "name": "python",
      "nbconvert_exporter": "python",
      "pygments_lexer": "ipython3",
      "version": "3.6.3"
    }
  },
  "nbformat": 4,
  "nbformat_minor": 0
}
